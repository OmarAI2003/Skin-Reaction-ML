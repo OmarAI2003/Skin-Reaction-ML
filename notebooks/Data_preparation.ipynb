{
 "cells": [
  {
   "cell_type": "code",
   "execution_count": null,
   "metadata": {},
   "outputs": [],
   "source": [
    "import sys\n",
    "import os\n",
    "import pandas as pd\n",
    "import matplotlib.pyplot as plt\n",
    "# import seaborn as sns"
   ]
  },
  {
   "cell_type": "markdown",
   "metadata": {},
   "source": [
    "### Importing Data Loader and Featurizer Script for Custom Featurization"
   ]
  },
  {
   "cell_type": "code",
   "execution_count": null,
   "metadata": {},
   "outputs": [],
   "source": [
    "# Get the parent directory (project root)\n",
    "project_root = os.path.abspath(os.path.join(os.getcwd(), \"..\"))\n",
    "# Add it to sys.path\n",
    "sys.path.append(project_root)\n",
    "\n",
    "# Import featurizer function and the data folder path.\n",
    "from scripts.data_loader_and_featurizer import run_featurizer, data_path"
   ]
  },
  {
   "cell_type": "code",
   "execution_count": null,
   "metadata": {},
   "outputs": [],
   "source": [
    "# run the featurization process using the Morgan fingerprint model for my\n",
    "# datast split file and generates output files and saving them to `data_path`.\n",
    "\n",
    "input_filenames = [\"train_features.csv\", \"valid_features.csv\", \"test_features.csv\"]\n",
    "output_filenames = [\"morgan_train_features.csv\", \"morgan_valid_features.csv\", \"morgan_test_features.csv\"]\n",
    "morgan_id = 'eos4wt0'\n",
    "run_featurizer(model_id=morgan_id, input_filenames= input_filenames, output_filenames= output_filenames, data_path=data_path)"
   ]
  },
  {
   "cell_type": "code",
   "execution_count": 177,
   "metadata": {},
   "outputs": [],
   "source": [
    "# run the featurization process using Compound Embeddings.\n",
    "input_filenames = [\"train_features.csv\", \"valid_features.csv\", \"test_features.csv\"]\n",
    "output_filenames = [\"ComPEmbed_train_features.csv\", \"CompEmbed_valid_features.csv\", \"CompEmbed_test_features.csv\"]\n",
    "morgan_id = 'eos2gw4'\n",
    "run_featurizer(model_id=morgan_id, input_filenames= input_filenames, output_filenames= output_filenames, data_path=data_path)"
   ]
  },
  {
   "cell_type": "code",
   "execution_count": 29,
   "metadata": {},
   "outputs": [
    {
     "data": {
      "text/html": [
       "<div>\n",
       "<style scoped>\n",
       "    .dataframe tbody tr th:only-of-type {\n",
       "        vertical-align: middle;\n",
       "    }\n",
       "\n",
       "    .dataframe tbody tr th {\n",
       "        vertical-align: top;\n",
       "    }\n",
       "\n",
       "    .dataframe thead th {\n",
       "        text-align: right;\n",
       "    }\n",
       "</style>\n",
       "<table border=\"1\" class=\"dataframe\">\n",
       "  <thead>\n",
       "    <tr style=\"text-align: right;\">\n",
       "      <th></th>\n",
       "      <th>key</th>\n",
       "      <th>input</th>\n",
       "      <th>dimension_0000</th>\n",
       "      <th>dimension_0001</th>\n",
       "      <th>dimension_0002</th>\n",
       "      <th>dimension_0003</th>\n",
       "      <th>dimension_0004</th>\n",
       "      <th>dimension_0005</th>\n",
       "      <th>dimension_0006</th>\n",
       "      <th>dimension_0007</th>\n",
       "      <th>...</th>\n",
       "      <th>dimension_2038</th>\n",
       "      <th>dimension_2039</th>\n",
       "      <th>dimension_2040</th>\n",
       "      <th>dimension_2041</th>\n",
       "      <th>dimension_2042</th>\n",
       "      <th>dimension_2043</th>\n",
       "      <th>dimension_2044</th>\n",
       "      <th>dimension_2045</th>\n",
       "      <th>dimension_2046</th>\n",
       "      <th>dimension_2047</th>\n",
       "    </tr>\n",
       "  </thead>\n",
       "  <tbody>\n",
       "    <tr>\n",
       "      <th>0</th>\n",
       "      <td>d13830395235619cda85ecea54cda393</td>\n",
       "      <td>CCOCc1cc(OC)c(B(O)O)c(OC)c1</td>\n",
       "      <td>0</td>\n",
       "      <td>0</td>\n",
       "      <td>0</td>\n",
       "      <td>0</td>\n",
       "      <td>0</td>\n",
       "      <td>0</td>\n",
       "      <td>0</td>\n",
       "      <td>0</td>\n",
       "      <td>...</td>\n",
       "      <td>0</td>\n",
       "      <td>0</td>\n",
       "      <td>0</td>\n",
       "      <td>0</td>\n",
       "      <td>0</td>\n",
       "      <td>0</td>\n",
       "      <td>0</td>\n",
       "      <td>0</td>\n",
       "      <td>0</td>\n",
       "      <td>0</td>\n",
       "    </tr>\n",
       "  </tbody>\n",
       "</table>\n",
       "<p>1 rows × 2050 columns</p>\n",
       "</div>"
      ],
      "text/plain": [
       "                                key                        input  \\\n",
       "0  d13830395235619cda85ecea54cda393  CCOCc1cc(OC)c(B(O)O)c(OC)c1   \n",
       "\n",
       "   dimension_0000  dimension_0001  dimension_0002  dimension_0003  \\\n",
       "0               0               0               0               0   \n",
       "\n",
       "   dimension_0004  dimension_0005  dimension_0006  dimension_0007  ...  \\\n",
       "0               0               0               0               0  ...   \n",
       "\n",
       "   dimension_2038  dimension_2039  dimension_2040  dimension_2041  \\\n",
       "0               0               0               0               0   \n",
       "\n",
       "   dimension_2042  dimension_2043  dimension_2044  dimension_2045  \\\n",
       "0               0               0               0               0   \n",
       "\n",
       "   dimension_2046  dimension_2047  \n",
       "0               0               0  \n",
       "\n",
       "[1 rows x 2050 columns]"
      ]
     },
     "execution_count": 29,
     "metadata": {},
     "output_type": "execute_result"
    }
   ],
   "source": [
    "# Load the Morgan featureized & display first row to verify the data structure.\n",
    "morgan_train_features_df = pd.read_csv(data_path/\"morgan_train_features.csv\")\n",
    "morgan_train_features_df.head(1)"
   ]
  },
  {
   "cell_type": "markdown",
   "metadata": {},
   "source": [
    "### EDA: Doing some EDA for the original skin dataset from TDC."
   ]
  },
  {
   "cell_type": "code",
   "execution_count": 124,
   "metadata": {},
   "outputs": [
    {
     "data": {
      "text/html": [
       "<div>\n",
       "<style scoped>\n",
       "    .dataframe tbody tr th:only-of-type {\n",
       "        vertical-align: middle;\n",
       "    }\n",
       "\n",
       "    .dataframe tbody tr th {\n",
       "        vertical-align: top;\n",
       "    }\n",
       "\n",
       "    .dataframe thead th {\n",
       "        text-align: right;\n",
       "    }\n",
       "</style>\n",
       "<table border=\"1\" class=\"dataframe\">\n",
       "  <thead>\n",
       "    <tr style=\"text-align: right;\">\n",
       "      <th></th>\n",
       "      <th>Drug_ID</th>\n",
       "      <th>Drug</th>\n",
       "      <th>Y</th>\n",
       "    </tr>\n",
       "  </thead>\n",
       "  <tbody>\n",
       "    <tr>\n",
       "      <th>402</th>\n",
       "      <td>Propyl gallate</td>\n",
       "      <td>CCCOC(=O)c1cc(O)c(O)c(O)c1</td>\n",
       "      <td>1</td>\n",
       "    </tr>\n",
       "    <tr>\n",
       "      <th>110</th>\n",
       "      <td>Pentaerythritol triacrylate</td>\n",
       "      <td>C=CC(=O)OCC(CO)(COC(=O)C=C)COC(=O)C=C</td>\n",
       "      <td>0</td>\n",
       "    </tr>\n",
       "    <tr>\n",
       "      <th>174</th>\n",
       "      <td>6-Methylisoeugenol</td>\n",
       "      <td>CC=Cc1cc(C)c(O)c(OC)c1</td>\n",
       "      <td>1</td>\n",
       "    </tr>\n",
       "    <tr>\n",
       "      <th>94</th>\n",
       "      <td>Isopropanol</td>\n",
       "      <td>CC(C)O</td>\n",
       "      <td>0</td>\n",
       "    </tr>\n",
       "    <tr>\n",
       "      <th>320</th>\n",
       "      <td>Benzalkonium chloride</td>\n",
       "      <td>CCCCCCCCCCCCCC[N+](C)(C)Cc1ccccc1</td>\n",
       "      <td>1</td>\n",
       "    </tr>\n",
       "  </tbody>\n",
       "</table>\n",
       "</div>"
      ],
      "text/plain": [
       "                         Drug_ID                                   Drug  Y\n",
       "402               Propyl gallate             CCCOC(=O)c1cc(O)c(O)c(O)c1  1\n",
       "110  Pentaerythritol triacrylate  C=CC(=O)OCC(CO)(COC(=O)C=C)COC(=O)C=C  0\n",
       "174           6-Methylisoeugenol                 CC=Cc1cc(C)c(O)c(OC)c1  1\n",
       "94                   Isopropanol                                 CC(C)O  0\n",
       "320        Benzalkonium chloride      CCCCCCCCCCCCCC[N+](C)(C)Cc1ccccc1  1"
      ]
     },
     "execution_count": 124,
     "metadata": {},
     "output_type": "execute_result"
    }
   ],
   "source": [
    "# Load dataset and display 5 random samples\n",
    "\n",
    "dataset = pd.read_csv(data_path/\"skin_reaction.csv\")\n",
    "dataset.sample(5)"
   ]
  },
  {
   "cell_type": "code",
   "execution_count": 31,
   "metadata": {},
   "outputs": [
    {
     "data": {
      "text/plain": [
       "'Shape of the dataset is (404, 3).Contains 404 rows and 3 columns'"
      ]
     },
     "execution_count": 31,
     "metadata": {},
     "output_type": "execute_result"
    }
   ],
   "source": [
    "# printing data shape\n",
    "\"Shape of the dataset is {}.Contains {} rows and {} columns\".format(dataset.shape,dataset.shape[0],dataset.shape[1])"
   ]
  },
  {
   "cell_type": "markdown",
   "metadata": {},
   "source": [
    "Tabular summary of columns, non-null counts, and data types.: Our data has no null values "
   ]
  },
  {
   "cell_type": "code",
   "execution_count": 169,
   "metadata": {},
   "outputs": [
    {
     "data": {
      "text/html": [
       "<div>\n",
       "<style scoped>\n",
       "    .dataframe tbody tr th:only-of-type {\n",
       "        vertical-align: middle;\n",
       "    }\n",
       "\n",
       "    .dataframe tbody tr th {\n",
       "        vertical-align: top;\n",
       "    }\n",
       "\n",
       "    .dataframe thead th {\n",
       "        text-align: right;\n",
       "    }\n",
       "</style>\n",
       "<table border=\"1\" class=\"dataframe\">\n",
       "  <thead>\n",
       "    <tr style=\"text-align: right;\">\n",
       "      <th></th>\n",
       "      <th>Column</th>\n",
       "      <th>Non-Null Count</th>\n",
       "      <th>Dtype</th>\n",
       "    </tr>\n",
       "  </thead>\n",
       "  <tbody>\n",
       "    <tr>\n",
       "      <th>0</th>\n",
       "      <td>Drug_ID</td>\n",
       "      <td>404</td>\n",
       "      <td>string</td>\n",
       "    </tr>\n",
       "    <tr>\n",
       "      <th>1</th>\n",
       "      <td>Drug</td>\n",
       "      <td>404</td>\n",
       "      <td>string</td>\n",
       "    </tr>\n",
       "    <tr>\n",
       "      <th>2</th>\n",
       "      <td>Y</td>\n",
       "      <td>404</td>\n",
       "      <td>int64</td>\n",
       "    </tr>\n",
       "  </tbody>\n",
       "</table>\n",
       "</div>"
      ],
      "text/plain": [
       "    Column  Non-Null Count   Dtype\n",
       "0  Drug_ID             404  string\n",
       "1     Drug             404  string\n",
       "2        Y             404   int64"
      ]
     },
     "execution_count": 169,
     "metadata": {},
     "output_type": "execute_result"
    }
   ],
   "source": [
    "pd.DataFrame({\n",
    "    \"Column\": dataset.columns,\n",
    "    \"Non-Null Count\": dataset.notnull().sum().values,\n",
    "    \"Dtype\": dataset.dtypes.replace(\"object\", \"string\").values # Show dtype object as string\n",
    "})"
   ]
  },
  {
   "cell_type": "markdown",
   "metadata": {},
   "source": [
    "**Data Uniqueness**: All our 404 rows are uniue molecules. There's no duplicates."
   ]
  },
  {
   "cell_type": "code",
   "execution_count": 93,
   "metadata": {},
   "outputs": [
    {
     "data": {
      "text/html": [
       "<div>\n",
       "<style scoped>\n",
       "    .dataframe tbody tr th:only-of-type {\n",
       "        vertical-align: middle;\n",
       "    }\n",
       "\n",
       "    .dataframe tbody tr th {\n",
       "        vertical-align: top;\n",
       "    }\n",
       "\n",
       "    .dataframe thead th {\n",
       "        text-align: right;\n",
       "    }\n",
       "</style>\n",
       "<table border=\"1\" class=\"dataframe\">\n",
       "  <thead>\n",
       "    <tr style=\"text-align: right;\">\n",
       "      <th></th>\n",
       "      <th>Unique Values</th>\n",
       "    </tr>\n",
       "  </thead>\n",
       "  <tbody>\n",
       "    <tr>\n",
       "      <th>Drug_ID</th>\n",
       "      <td>404</td>\n",
       "    </tr>\n",
       "    <tr>\n",
       "      <th>Drug</th>\n",
       "      <td>404</td>\n",
       "    </tr>\n",
       "    <tr>\n",
       "      <th>Y</th>\n",
       "      <td>2</td>\n",
       "    </tr>\n",
       "  </tbody>\n",
       "</table>\n",
       "</div>"
      ],
      "text/plain": [
       "         Unique Values\n",
       "Drug_ID            404\n",
       "Drug               404\n",
       "Y                    2"
      ]
     },
     "execution_count": 93,
     "metadata": {},
     "output_type": "execute_result"
    }
   ],
   "source": [
    "dataset.nunique().to_frame().rename(columns={0: 'Unique Values'})"
   ]
  },
  {
   "cell_type": "markdown",
   "metadata": {},
   "source": [
    "#### Class Balance:\n",
    "\n",
    "The dataset is imbalanced, with the count of **skin sensitizers (class 1)** being twice as large as the count of **non-sensitizers (class 0)**. This skew towards the positive (sensitizers)class could bias model training, so techniques like resampling may be necessary."
   ]
  },
  {
   "cell_type": "code",
   "execution_count": 128,
   "metadata": {},
   "outputs": [
    {
     "data": {
      "text/html": [
       "<div>\n",
       "<style scoped>\n",
       "    .dataframe tbody tr th:only-of-type {\n",
       "        vertical-align: middle;\n",
       "    }\n",
       "\n",
       "    .dataframe tbody tr th {\n",
       "        vertical-align: top;\n",
       "    }\n",
       "\n",
       "    .dataframe thead th {\n",
       "        text-align: right;\n",
       "    }\n",
       "</style>\n",
       "<table border=\"1\" class=\"dataframe\">\n",
       "  <thead>\n",
       "    <tr style=\"text-align: right;\">\n",
       "      <th></th>\n",
       "      <th>count</th>\n",
       "    </tr>\n",
       "    <tr>\n",
       "      <th>Y</th>\n",
       "      <th></th>\n",
       "    </tr>\n",
       "  </thead>\n",
       "  <tbody>\n",
       "    <tr>\n",
       "      <th>1</th>\n",
       "      <td>274</td>\n",
       "    </tr>\n",
       "    <tr>\n",
       "      <th>0</th>\n",
       "      <td>130</td>\n",
       "    </tr>\n",
       "  </tbody>\n",
       "</table>\n",
       "</div>"
      ],
      "text/plain": [
       "   count\n",
       "Y       \n",
       "1    274\n",
       "0    130"
      ]
     },
     "execution_count": 128,
     "metadata": {},
     "output_type": "execute_result"
    }
   ],
   "source": [
    "value_counts = dataset['Y'].value_counts()\n",
    "value_counts.to_frame()"
   ]
  },
  {
   "cell_type": "code",
   "execution_count": 138,
   "metadata": {},
   "outputs": [
    {
     "data": {
      "image/png": "[encoded data removed]",
      "text/plain": [
       "<Figure size 640x480 with 1 Axes>"
      ]
     },
     "metadata": {},
     "output_type": "display_data"
    }
   ],
   "source": [
    "value_counts = dataset['Y'].value_counts()\n",
    "\n",
    "# Define colors and labels dynamically based on the sorted order\n",
    "class_mapping = {0: 'Non-sensitizers (Class 0)', 1: 'Sensitizers (Class 1)'}\n",
    "colors = ['green' if idx == 0 else 'red' for idx in value_counts.index]\n",
    "labels = [class_mapping[idx] for idx in value_counts.index]\n",
    "\n",
    "# Create bar chart\n",
    "bars = plt.bar(range(len(value_counts)), value_counts.values, color=colors, width=0.25)\n",
    "\n",
    "# Add value labels on top of each bar>\n",
    "for bar in bars:\n",
    "    yval = bar.get_height()\n",
    "    plt.text(bar.get_x() + bar.get_width()/2, yval, int(yval), ha='center', va='bottom')\n",
    "\n",
    "# Set the x-axis labels\n",
    "plt.xticks(range(len(value_counts)), labels)\n",
    "\n",
    "# Set labels & title\n",
    "plt.xlabel('Class')\n",
    "plt.ylabel('Count')\n",
    "plt.title('Class Balance')\n",
    "\n",
    "# Show plot\n",
    "plt.show()\n"
   ]
  },
  {
   "cell_type": "markdown",
   "metadata": {},
   "source": [
    "#### SMILES Length Analysis: Stats of complexity/size in `Drug` column:\n",
    "- Most molecules are relatively small, hist peaking between 10–25 characters and a median length of 22. indicates simple structure.\n",
    "\n",
    "- We have a right skewed distribution with a mean of 25 and a wide range of 4: 98, which highlights a long tail of complex molecules\n",
    "\n",
    "- A standard deviation of 16 indicates significant variability relative to our 25 mean."
   ]
  },
  {
   "cell_type": "code",
   "execution_count": 157,
   "metadata": {},
   "outputs": [
    {
     "data": {
      "text/html": [
       "<div>\n",
       "<style scoped>\n",
       "    .dataframe tbody tr th:only-of-type {\n",
       "        vertical-align: middle;\n",
       "    }\n",
       "\n",
       "    .dataframe tbody tr th {\n",
       "        vertical-align: top;\n",
       "    }\n",
       "\n",
       "    .dataframe thead th {\n",
       "        text-align: right;\n",
       "    }\n",
       "</style>\n",
       "<table border=\"1\" class=\"dataframe\">\n",
       "  <thead>\n",
       "    <tr style=\"text-align: right;\">\n",
       "      <th></th>\n",
       "      <th>Drug</th>\n",
       "    </tr>\n",
       "  </thead>\n",
       "  <tbody>\n",
       "    <tr>\n",
       "      <th>count</th>\n",
       "      <td>404.0</td>\n",
       "    </tr>\n",
       "    <tr>\n",
       "      <th>mean</th>\n",
       "      <td>25.4</td>\n",
       "    </tr>\n",
       "    <tr>\n",
       "      <th>std</th>\n",
       "      <td>15.9</td>\n",
       "    </tr>\n",
       "    <tr>\n",
       "      <th>min</th>\n",
       "      <td>4.0</td>\n",
       "    </tr>\n",
       "    <tr>\n",
       "      <th>25%</th>\n",
       "      <td>15.8</td>\n",
       "    </tr>\n",
       "    <tr>\n",
       "      <th>50%</th>\n",
       "      <td>22.0</td>\n",
       "    </tr>\n",
       "    <tr>\n",
       "      <th>75%</th>\n",
       "      <td>30.0</td>\n",
       "    </tr>\n",
       "    <tr>\n",
       "      <th>max</th>\n",
       "      <td>98.0</td>\n",
       "    </tr>\n",
       "  </tbody>\n",
       "</table>\n",
       "</div>"
      ],
      "text/plain": [
       "        Drug\n",
       "count  404.0\n",
       "mean    25.4\n",
       "std     15.9\n",
       "min      4.0\n",
       "25%     15.8\n",
       "50%     22.0\n",
       "75%     30.0\n",
       "max     98.0"
      ]
     },
     "execution_count": 157,
     "metadata": {},
     "output_type": "execute_result"
    }
   ],
   "source": [
    "smiles_length = dataset['Drug'].str.len()\n",
    "smiles_length.describe().to_frame().round(1)"
   ]
  },
  {
   "cell_type": "code",
   "execution_count": 161,
   "metadata": {},
   "outputs": [
    {
     "data": {
      "image/png": "[encoded data removed]",
      "text/plain": [
       "<Figure size 1000x600 with 1 Axes>"
      ]
     },
     "metadata": {},
     "output_type": "display_data"
    }
   ],
   "source": [
    "\n",
    "# Calculate summary statistics\n",
    "mean_length = smiles_length.mean()\n",
    "std_dev = smiles_length.std()\n",
    "min_length = smiles_length.min()\n",
    "max_length = smiles_length.max()\n",
    "\n",
    "# Create the histogram (show counts)\n",
    "plt.figure(figsize=(10, 6))\n",
    "sns.histplot(smiles_length, kde=True, bins=20, color='salmon', stat='count')\n",
    "\n",
    "# Adding summary stats to the plot\n",
    "plt.axvline(mean_length, color='blue', linestyle='--', label=f'Mean: {mean_length:.2f}')\n",
    "plt.axvline(min_length, color='purple', linestyle='--', label=f'Min: {min_length}')\n",
    "plt.axvline(max_length, color='red', linestyle='--', label=f'Max: {max_length}')\n",
    "\n",
    "# Annotate the stats on the plot\n",
    "plt.text(mean_length + 0.5, 10, f'Mean: {mean_length:.2f}', color='blue', fontsize=12)\n",
    "plt.text(min_length + 0.5, 10, f'Min: {min_length}', color='purple', fontsize=12)\n",
    "plt.text(max_length + 0.5, 10, f'Max: {max_length}', color='red', fontsize=12)\n",
    "\n",
    "# Customize the plot labels and title\n",
    "plt.title('Histogram of SMILES String Lengths')\n",
    "plt.xlabel('String Length')\n",
    "plt.ylabel('Count')\n",
    "\n",
    "# Show the plot with summary stats\n",
    "plt.legend()\n",
    "plt.show()\n"
   ]
  }
 ],
 "metadata": {
  "kernelspec": {
   "display_name": "venv",
   "language": "python",
   "name": "python3"
  },
  "language_info": {
   "codemirror_mode": {
    "name": "ipython",
    "version": 3
   },
   "file_extension": ".py",
   "mimetype": "text/x-python",
   "name": "python",
   "nbconvert_exporter": "python",
   "pygments_lexer": "ipython3",
   "version": "3.12.9"
  }
 },
 "nbformat": 4,
 "nbformat_minor": 2
}
