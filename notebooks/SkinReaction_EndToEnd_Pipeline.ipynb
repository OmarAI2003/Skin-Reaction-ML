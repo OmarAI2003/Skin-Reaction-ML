{
 "cells": [
  {
   "cell_type": "code",
   "execution_count": 1,
   "metadata": {},
   "outputs": [],
   "source": [
    "import os # Get the parent directory (project root)\n",
    "import sys\n",
    "import os\n",
    "import pandas as pd\n",
    "import matplotlib.pyplot as plt\n",
    "\n",
    "# import seaborn as sns\n",
    "project_root = os.path.abspath(os.path.join(os.getcwd(), \"..\"))\n",
    "# Add it to sys.path\n",
    "sys.path.append(project_root)\n",
    "\n",
    "from scripts.data_loader_and_featurizer import run_featurizer, data_path, main"
   ]
  },
  {
   "cell_type": "code",
   "execution_count": 2,
   "metadata": {},
   "outputs": [],
   "source": [
    "# Load the data\n",
    "main()"
   ]
  },
  {
   "cell_type": "code",
   "execution_count": 3,
   "metadata": {},
   "outputs": [],
   "source": [
    "# Get the parent directory (project root)\n",
    "project_root = os.path.abspath(os.path.join(os.getcwd(), \"..\"))\n",
    "# Add it to sys.path\n",
    "sys.path.append(project_root)"
   ]
  },
  {
   "cell_type": "code",
   "execution_count": null,
   "metadata": {},
   "outputs": [],
   "source": [
    "# # run the featurization process using the Morgan fingerprint model for my\n",
    "# # datast split file and generates output files and saving them to `data_path`.\n",
    "\n",
    "# input_filenames = [\"train_features.csv\", \"valid_features.csv\", \"test_features.csv\"]\n",
    "# output_filenames = [\"morgan_train_features.csv\", \"morgan_valid_features.csv\", \"morgan_test_features.csv\"]\n",
    "# morgan_id = 'eos4wt0'\n",
    "# run_featurizer(model_id=morgan_id, input_filenames= input_filenames, output_filenames= output_filenames, data_path=data_path)"
   ]
  },
  {
   "cell_type": "code",
   "execution_count": null,
   "metadata": {},
   "outputs": [],
   "source": [
    "# # run the featurization process using Compound Embeddings.\n",
    "# input_filenames = [\"train_features.csv\", \"valid_features.csv\", \"test_features.csv\"]\n",
    "# output_filenames = [\"ComPEmbed_train_features.csv\", \"CompEmbed_valid_features.csv\", \"CompEmbed_test_features.csv\"]\n",
    "# comp_id = 'eos2gw4'\n",
    "# run_featurizer(model_id=morgan_id, input_filenames= input_filenames, output_filenames= output_filenames, data_path=data_path)"
   ]
  },
  {
   "cell_type": "code",
   "execution_count": 2,
   "metadata": {},
   "outputs": [
    {
     "data": {
      "text/html": [
       "<div>\n",
       "<style scoped>\n",
       "    .dataframe tbody tr th:only-of-type {\n",
       "        vertical-align: middle;\n",
       "    }\n",
       "\n",
       "    .dataframe tbody tr th {\n",
       "        vertical-align: top;\n",
       "    }\n",
       "\n",
       "    .dataframe thead th {\n",
       "        text-align: right;\n",
       "    }\n",
       "</style>\n",
       "<table border=\"1\" class=\"dataframe\">\n",
       "  <thead>\n",
       "    <tr style=\"text-align: right;\">\n",
       "      <th></th>\n",
       "      <th>key</th>\n",
       "      <th>input</th>\n",
       "      <th>dimension_0000</th>\n",
       "      <th>dimension_0001</th>\n",
       "      <th>dimension_0002</th>\n",
       "      <th>dimension_0003</th>\n",
       "      <th>dimension_0004</th>\n",
       "      <th>dimension_0005</th>\n",
       "      <th>dimension_0006</th>\n",
       "      <th>dimension_0007</th>\n",
       "      <th>...</th>\n",
       "      <th>dimension_2038</th>\n",
       "      <th>dimension_2039</th>\n",
       "      <th>dimension_2040</th>\n",
       "      <th>dimension_2041</th>\n",
       "      <th>dimension_2042</th>\n",
       "      <th>dimension_2043</th>\n",
       "      <th>dimension_2044</th>\n",
       "      <th>dimension_2045</th>\n",
       "      <th>dimension_2046</th>\n",
       "      <th>dimension_2047</th>\n",
       "    </tr>\n",
       "  </thead>\n",
       "  <tbody>\n",
       "    <tr>\n",
       "      <th>0</th>\n",
       "      <td>d13830395235619cda85ecea54cda393</td>\n",
       "      <td>CCOCc1cc(OC)c(B(O)O)c(OC)c1</td>\n",
       "      <td>0</td>\n",
       "      <td>0</td>\n",
       "      <td>0</td>\n",
       "      <td>0</td>\n",
       "      <td>0</td>\n",
       "      <td>0</td>\n",
       "      <td>0</td>\n",
       "      <td>0</td>\n",
       "      <td>...</td>\n",
       "      <td>0</td>\n",
       "      <td>0</td>\n",
       "      <td>0</td>\n",
       "      <td>0</td>\n",
       "      <td>0</td>\n",
       "      <td>0</td>\n",
       "      <td>0</td>\n",
       "      <td>0</td>\n",
       "      <td>0</td>\n",
       "      <td>0</td>\n",
       "    </tr>\n",
       "  </tbody>\n",
       "</table>\n",
       "<p>1 rows × 2050 columns</p>\n",
       "</div>"
      ],
      "text/plain": [
       "                                key                        input  \\\n",
       "0  d13830395235619cda85ecea54cda393  CCOCc1cc(OC)c(B(O)O)c(OC)c1   \n",
       "\n",
       "   dimension_0000  dimension_0001  dimension_0002  dimension_0003  \\\n",
       "0               0               0               0               0   \n",
       "\n",
       "   dimension_0004  dimension_0005  dimension_0006  dimension_0007  ...  \\\n",
       "0               0               0               0               0  ...   \n",
       "\n",
       "   dimension_2038  dimension_2039  dimension_2040  dimension_2041  \\\n",
       "0               0               0               0               0   \n",
       "\n",
       "   dimension_2042  dimension_2043  dimension_2044  dimension_2045  \\\n",
       "0               0               0               0               0   \n",
       "\n",
       "   dimension_2046  dimension_2047  \n",
       "0               0               0  \n",
       "\n",
       "[1 rows x 2050 columns]"
      ]
     },
     "execution_count": 2,
     "metadata": {},
     "output_type": "execute_result"
    }
   ],
   "source": [
    "# Load the Morgan featureized & display first row to verify the data structure.\n",
    "morgan_train_features_df = pd.read_csv(data_path/\"morgan_train_features.csv\")\n",
    "morgan_train_features_df.head(1)"
   ]
  },
  {
   "cell_type": "markdown",
   "metadata": {},
   "source": [
    "### EDA: Doing some EDA for the original skin dataset from TDC."
   ]
  },
  {
   "cell_type": "code",
   "execution_count": 7,
   "metadata": {},
   "outputs": [
    {
     "data": {
      "text/html": [
       "<div>\n",
       "<style scoped>\n",
       "    .dataframe tbody tr th:only-of-type {\n",
       "        vertical-align: middle;\n",
       "    }\n",
       "\n",
       "    .dataframe tbody tr th {\n",
       "        vertical-align: top;\n",
       "    }\n",
       "\n",
       "    .dataframe thead th {\n",
       "        text-align: right;\n",
       "    }\n",
       "</style>\n",
       "<table border=\"1\" class=\"dataframe\">\n",
       "  <thead>\n",
       "    <tr style=\"text-align: right;\">\n",
       "      <th></th>\n",
       "      <th>Drug_ID</th>\n",
       "      <th>Drug</th>\n",
       "      <th>Y</th>\n",
       "    </tr>\n",
       "  </thead>\n",
       "  <tbody>\n",
       "    <tr>\n",
       "      <th>169</th>\n",
       "      <td>5-Methyleugenol</td>\n",
       "      <td>C=CCc1cc(OC)c(O)cc1C</td>\n",
       "      <td>1</td>\n",
       "    </tr>\n",
       "    <tr>\n",
       "      <th>176</th>\n",
       "      <td>a-Butyl cinnamic aldehyde</td>\n",
       "      <td>CCCCC(C=O)=Cc1ccccc1</td>\n",
       "      <td>1</td>\n",
       "    </tr>\n",
       "    <tr>\n",
       "      <th>314</th>\n",
       "      <td>8-Chloro-3-pentyl-3,7-dihydro-1h-purine-2,6-dione</td>\n",
       "      <td>CCCCCn1c(=O)[nH]c(=O)c2[nH]c(Cl)nc21</td>\n",
       "      <td>1</td>\n",
       "    </tr>\n",
       "    <tr>\n",
       "      <th>13</th>\n",
       "      <td>1,1-Dimethylethyl[(1s)-2-[4-[(2-methyl-4-thiaz...</td>\n",
       "      <td>Cc1nc(COc2ccc(CC(NC(=O)OC(C)(C)C)C3CO3)cc2)cs1</td>\n",
       "      <td>0</td>\n",
       "    </tr>\n",
       "    <tr>\n",
       "      <th>32</th>\n",
       "      <td>2-[(Benzyloxy)-imino]malonic acid</td>\n",
       "      <td>O=C(O)C(=NOCc1ccccc1)C(=O)O</td>\n",
       "      <td>0</td>\n",
       "    </tr>\n",
       "  </tbody>\n",
       "</table>\n",
       "</div>"
      ],
      "text/plain": [
       "                                               Drug_ID  \\\n",
       "169                                    5-Methyleugenol   \n",
       "176                          a-Butyl cinnamic aldehyde   \n",
       "314  8-Chloro-3-pentyl-3,7-dihydro-1h-purine-2,6-dione   \n",
       "13   1,1-Dimethylethyl[(1s)-2-[4-[(2-methyl-4-thiaz...   \n",
       "32                   2-[(Benzyloxy)-imino]malonic acid   \n",
       "\n",
       "                                               Drug  Y  \n",
       "169                            C=CCc1cc(OC)c(O)cc1C  1  \n",
       "176                            CCCCC(C=O)=Cc1ccccc1  1  \n",
       "314            CCCCCn1c(=O)[nH]c(=O)c2[nH]c(Cl)nc21  1  \n",
       "13   Cc1nc(COc2ccc(CC(NC(=O)OC(C)(C)C)C3CO3)cc2)cs1  0  \n",
       "32                      O=C(O)C(=NOCc1ccccc1)C(=O)O  0  "
      ]
     },
     "execution_count": 7,
     "metadata": {},
     "output_type": "execute_result"
    }
   ],
   "source": [
    "# Load dataset and display 5 random samples\n",
    "\n",
    "dataset = pd.read_csv(data_path/\"skin_reaction.csv\")\n",
    "dataset.sample(5)"
   ]
  },
  {
   "cell_type": "code",
   "execution_count": 8,
   "metadata": {},
   "outputs": [
    {
     "data": {
      "text/plain": [
       "'Shape of the dataset is (404, 3).Contains 404 rows and 3 columns'"
      ]
     },
     "execution_count": 8,
     "metadata": {},
     "output_type": "execute_result"
    }
   ],
   "source": [
    "# printing data shape\n",
    "\"Shape of the dataset is {}.Contains {} rows and {} columns\".format(dataset.shape,dataset.shape[0],dataset.shape[1])"
   ]
  },
  {
   "cell_type": "markdown",
   "metadata": {},
   "source": [
    "Tabular summary of columns, non-null counts, and data types.: Our data has no null values "
   ]
  },
  {
   "cell_type": "code",
   "execution_count": 9,
   "metadata": {},
   "outputs": [
    {
     "data": {
      "text/html": [
       "<div>\n",
       "<style scoped>\n",
       "    .dataframe tbody tr th:only-of-type {\n",
       "        vertical-align: middle;\n",
       "    }\n",
       "\n",
       "    .dataframe tbody tr th {\n",
       "        vertical-align: top;\n",
       "    }\n",
       "\n",
       "    .dataframe thead th {\n",
       "        text-align: right;\n",
       "    }\n",
       "</style>\n",
       "<table border=\"1\" class=\"dataframe\">\n",
       "  <thead>\n",
       "    <tr style=\"text-align: right;\">\n",
       "      <th></th>\n",
       "      <th>Column</th>\n",
       "      <th>Non-Null Count</th>\n",
       "      <th>Dtype</th>\n",
       "    </tr>\n",
       "  </thead>\n",
       "  <tbody>\n",
       "    <tr>\n",
       "      <th>0</th>\n",
       "      <td>Drug_ID</td>\n",
       "      <td>404</td>\n",
       "      <td>string</td>\n",
       "    </tr>\n",
       "    <tr>\n",
       "      <th>1</th>\n",
       "      <td>Drug</td>\n",
       "      <td>404</td>\n",
       "      <td>string</td>\n",
       "    </tr>\n",
       "    <tr>\n",
       "      <th>2</th>\n",
       "      <td>Y</td>\n",
       "      <td>404</td>\n",
       "      <td>int64</td>\n",
       "    </tr>\n",
       "  </tbody>\n",
       "</table>\n",
       "</div>"
      ],
      "text/plain": [
       "    Column  Non-Null Count   Dtype\n",
       "0  Drug_ID             404  string\n",
       "1     Drug             404  string\n",
       "2        Y             404   int64"
      ]
     },
     "execution_count": 9,
     "metadata": {},
     "output_type": "execute_result"
    }
   ],
   "source": [
    "pd.DataFrame({\n",
    "    \"Column\": dataset.columns,\n",
    "    \"Non-Null Count\": dataset.notnull().sum().values,\n",
    "    \"Dtype\": dataset.dtypes.replace(\"object\", \"string\").values # Show dtype object as string\n",
    "})"
   ]
  },
  {
   "cell_type": "markdown",
   "metadata": {},
   "source": [
    "**Data Uniqueness**: All our 404 rows are uniue molecules. There's no duplicates."
   ]
  },
  {
   "cell_type": "code",
   "execution_count": 10,
   "metadata": {},
   "outputs": [
    {
     "data": {
      "text/html": [
       "<div>\n",
       "<style scoped>\n",
       "    .dataframe tbody tr th:only-of-type {\n",
       "        vertical-align: middle;\n",
       "    }\n",
       "\n",
       "    .dataframe tbody tr th {\n",
       "        vertical-align: top;\n",
       "    }\n",
       "\n",
       "    .dataframe thead th {\n",
       "        text-align: right;\n",
       "    }\n",
       "</style>\n",
       "<table border=\"1\" class=\"dataframe\">\n",
       "  <thead>\n",
       "    <tr style=\"text-align: right;\">\n",
       "      <th></th>\n",
       "      <th>Unique Values</th>\n",
       "    </tr>\n",
       "  </thead>\n",
       "  <tbody>\n",
       "    <tr>\n",
       "      <th>Drug_ID</th>\n",
       "      <td>404</td>\n",
       "    </tr>\n",
       "    <tr>\n",
       "      <th>Drug</th>\n",
       "      <td>404</td>\n",
       "    </tr>\n",
       "    <tr>\n",
       "      <th>Y</th>\n",
       "      <td>2</td>\n",
       "    </tr>\n",
       "  </tbody>\n",
       "</table>\n",
       "</div>"
      ],
      "text/plain": [
       "         Unique Values\n",
       "Drug_ID            404\n",
       "Drug               404\n",
       "Y                    2"
      ]
     },
     "execution_count": 10,
     "metadata": {},
     "output_type": "execute_result"
    }
   ],
   "source": [
    "dataset.nunique().to_frame().rename(columns={0: 'Unique Values'})"
   ]
  },
  {
   "cell_type": "markdown",
   "metadata": {},
   "source": [
    "#### Class Balance:\n",
    "\n",
    "The dataset is imbalanced, with the count of **skin sensitizers (class 1)** being twice as large as the count of **non-sensitizers (class 0)**. This skew towards the positive (sensitizers)class could bias model training, so techniques like resampling may be necessary."
   ]
  },
  {
   "cell_type": "code",
   "execution_count": 11,
   "metadata": {},
   "outputs": [
    {
     "data": {
      "text/html": [
       "<div>\n",
       "<style scoped>\n",
       "    .dataframe tbody tr th:only-of-type {\n",
       "        vertical-align: middle;\n",
       "    }\n",
       "\n",
       "    .dataframe tbody tr th {\n",
       "        vertical-align: top;\n",
       "    }\n",
       "\n",
       "    .dataframe thead th {\n",
       "        text-align: right;\n",
       "    }\n",
       "</style>\n",
       "<table border=\"1\" class=\"dataframe\">\n",
       "  <thead>\n",
       "    <tr style=\"text-align: right;\">\n",
       "      <th></th>\n",
       "      <th>count</th>\n",
       "    </tr>\n",
       "    <tr>\n",
       "      <th>Y</th>\n",
       "      <th></th>\n",
       "    </tr>\n",
       "  </thead>\n",
       "  <tbody>\n",
       "    <tr>\n",
       "      <th>1</th>\n",
       "      <td>274</td>\n",
       "    </tr>\n",
       "    <tr>\n",
       "      <th>0</th>\n",
       "      <td>130</td>\n",
       "    </tr>\n",
       "  </tbody>\n",
       "</table>\n",
       "</div>"
      ],
      "text/plain": [
       "   count\n",
       "Y       \n",
       "1    274\n",
       "0    130"
      ]
     },
     "execution_count": 11,
     "metadata": {},
     "output_type": "execute_result"
    }
   ],
   "source": [
    "value_counts = dataset['Y'].value_counts()\n",
    "value_counts.to_frame()"
   ]
  },
  {
   "cell_type": "code",
   "execution_count": 12,
   "metadata": {},
   "outputs": [
    {
     "data": {
      "image/png": "[encoded data removed]",
      "text/plain": [
       "<Figure size 640x480 with 1 Axes>"
      ]
     },
     "metadata": {},
     "output_type": "display_data"
    }
   ],
   "source": [
    "value_counts = dataset['Y'].value_counts()\n",
    "\n",
    "# Define colors and labels dynamically based on the sorted order\n",
    "class_mapping = {0: 'Non-sensitizers (Class 0)', 1: 'Sensitizers (Class 1)'}\n",
    "colors = ['green' if idx == 0 else 'red' for idx in value_counts.index]\n",
    "labels = [class_mapping[idx] for idx in value_counts.index]\n",
    "\n",
    "# Create bar chart\n",
    "bars = plt.bar(range(len(value_counts)), value_counts.values, color=colors, width=0.25)\n",
    "\n",
    "# Add value labels on top of each bar>\n",
    "for bar in bars:\n",
    "    yval = bar.get_height()\n",
    "    plt.text(bar.get_x() + bar.get_width()/2, yval, int(yval), ha='center', va='bottom')\n",
    "\n",
    "# Set the x-axis labels\n",
    "plt.xticks(range(len(value_counts)), labels)\n",
    "\n",
    "# Set labels & title\n",
    "plt.xlabel('Class')\n",
    "plt.ylabel('Count')\n",
    "plt.title('Class Balance')\n",
    "\n",
    "# Show plot\n",
    "plt.show()\n"
   ]
  },
  {
   "cell_type": "markdown",
   "metadata": {},
   "source": [
    "#### SMILES Length Analysis: Stats of complexity/size in `Drug` column:\n",
    "- Most molecules are relatively small, hist peaking between 10–25 characters and a median length of 22. indicates simple structure.\n",
    "\n",
    "- We have a right skewed distribution with a mean of 25 and a wide range of 4: 98, which highlights a long tail of complex molecules\n",
    "\n",
    "- A standard deviation of 16 indicates significant variability relative to our 25 mean."
   ]
  },
  {
   "cell_type": "code",
   "execution_count": 13,
   "metadata": {},
   "outputs": [
    {
     "data": {
      "text/html": [
       "<div>\n",
       "<style scoped>\n",
       "    .dataframe tbody tr th:only-of-type {\n",
       "        vertical-align: middle;\n",
       "    }\n",
       "\n",
       "    .dataframe tbody tr th {\n",
       "        vertical-align: top;\n",
       "    }\n",
       "\n",
       "    .dataframe thead th {\n",
       "        text-align: right;\n",
       "    }\n",
       "</style>\n",
       "<table border=\"1\" class=\"dataframe\">\n",
       "  <thead>\n",
       "    <tr style=\"text-align: right;\">\n",
       "      <th></th>\n",
       "      <th>Drug</th>\n",
       "    </tr>\n",
       "  </thead>\n",
       "  <tbody>\n",
       "    <tr>\n",
       "      <th>count</th>\n",
       "      <td>404.0</td>\n",
       "    </tr>\n",
       "    <tr>\n",
       "      <th>mean</th>\n",
       "      <td>25.4</td>\n",
       "    </tr>\n",
       "    <tr>\n",
       "      <th>std</th>\n",
       "      <td>15.9</td>\n",
       "    </tr>\n",
       "    <tr>\n",
       "      <th>min</th>\n",
       "      <td>4.0</td>\n",
       "    </tr>\n",
       "    <tr>\n",
       "      <th>25%</th>\n",
       "      <td>15.8</td>\n",
       "    </tr>\n",
       "    <tr>\n",
       "      <th>50%</th>\n",
       "      <td>22.0</td>\n",
       "    </tr>\n",
       "    <tr>\n",
       "      <th>75%</th>\n",
       "      <td>30.0</td>\n",
       "    </tr>\n",
       "    <tr>\n",
       "      <th>max</th>\n",
       "      <td>98.0</td>\n",
       "    </tr>\n",
       "  </tbody>\n",
       "</table>\n",
       "</div>"
      ],
      "text/plain": [
       "        Drug\n",
       "count  404.0\n",
       "mean    25.4\n",
       "std     15.9\n",
       "min      4.0\n",
       "25%     15.8\n",
       "50%     22.0\n",
       "75%     30.0\n",
       "max     98.0"
      ]
     },
     "execution_count": 13,
     "metadata": {},
     "output_type": "execute_result"
    }
   ],
   "source": [
    "smiles_length = dataset['Drug'].str.len()\n",
    "smiles_length.describe().to_frame().round(1)"
   ]
  },
  {
   "cell_type": "code",
   "execution_count": 14,
   "metadata": {},
   "outputs": [
    {
     "data": {
      "image/png": "[encoded data removed]",
      "text/plain": [
       "<Figure size 1000x600 with 1 Axes>"
      ]
     },
     "metadata": {},
     "output_type": "display_data"
    }
   ],
   "source": [
    "import seaborn as sns\n",
    "# Calculate summary statistics\n",
    "mean_length = smiles_length.mean()\n",
    "std_dev = smiles_length.std()\n",
    "min_length = smiles_length.min()\n",
    "max_length = smiles_length.max()\n",
    "\n",
    "# Create the histogram (show counts)\n",
    "plt.figure(figsize=(10, 6))\n",
    "sns.histplot(smiles_length, kde=True, bins=20, color='salmon', stat='count')\n",
    "\n",
    "# Adding summary stats to the plot\n",
    "plt.axvline(mean_length, color='blue', linestyle='--', label=f'Mean: {mean_length:.2f}')\n",
    "plt.axvline(min_length, color='purple', linestyle='--', label=f'Min: {min_length}')\n",
    "plt.axvline(max_length, color='red', linestyle='--', label=f'Max: {max_length}')\n",
    "\n",
    "# Annotate the stats on the plot\n",
    "plt.text(mean_length + 0.5, 10, f'Mean: {mean_length:.2f}', color='blue', fontsize=12)\n",
    "plt.text(min_length + 0.5, 10, f'Min: {min_length}', color='purple', fontsize=12)\n",
    "plt.text(max_length + 0.5, 10, f'Max: {max_length}', color='red', fontsize=12)\n",
    "\n",
    "# Customize the plot labels and title\n",
    "plt.title('Histogram of SMILES String Lengths')\n",
    "plt.xlabel('String Length')\n",
    "plt.ylabel('Count')\n",
    "\n",
    "# Show the plot with summary stats\n",
    "plt.legend()\n",
    "plt.show()\n"
   ]
  },
  {
   "cell_type": "markdown",
   "metadata": {},
   "source": [
    "## Data Wrangling"
   ]
  },
  {
   "cell_type": "code",
   "execution_count": 3,
   "metadata": {},
   "outputs": [],
   "source": [
    "from scripts.utils import dfs, print_scores, plot_metric\n",
    "\n",
    "# Concatenate (horizontally) feature sets for both featurisers into a single data frame \n",
    "x_train = pd.concat([dfs[\"comp_train\"], dfs[\"morgan_train\"]], axis=1)\n",
    "x_valid = pd.concat([dfs[\"comp_valid\"], dfs[\"morgan_valid\"]], axis=1)\n",
    "x_test  = pd.concat([dfs[\"comp_test\"], dfs[\"morgan_test\"]], axis=1)\n",
    "\n",
    "y_train = dfs[\"train_labels\"].squeeze()\n",
    "y_valid = dfs[\"valid_labels\"].squeeze()\n",
    "y_test  = dfs[\"test_labels\"].squeeze()\n",
    "\n",
    "y_all = pd.concat([y_train, y_valid, y_test], axis=0).reset_index(drop=True) # For data operations across the entire dataset\n",
    "x_all = pd.concat([x_train, x_valid, x_test], axis=0).reset_index(drop=True) # For data operations across the entire dataset"
   ]
  },
  {
   "cell_type": "code",
   "execution_count": 4,
   "metadata": {},
   "outputs": [
    {
     "data": {
      "text/html": [
       "<div>\n",
       "<style scoped>\n",
       "    .dataframe tbody tr th:only-of-type {\n",
       "        vertical-align: middle;\n",
       "    }\n",
       "\n",
       "    .dataframe tbody tr th {\n",
       "        vertical-align: top;\n",
       "    }\n",
       "\n",
       "    .dataframe thead th {\n",
       "        text-align: right;\n",
       "    }\n",
       "</style>\n",
       "<table border=\"1\" class=\"dataframe\">\n",
       "  <thead>\n",
       "    <tr style=\"text-align: right;\">\n",
       "      <th></th>\n",
       "      <th>dimension_0000</th>\n",
       "      <th>dimension_0001</th>\n",
       "      <th>dimension_0002</th>\n",
       "      <th>dimension_0003</th>\n",
       "      <th>dimension_0004</th>\n",
       "      <th>dimension_0005</th>\n",
       "      <th>dimension_0006</th>\n",
       "      <th>dimension_0007</th>\n",
       "      <th>dimension_0008</th>\n",
       "      <th>dimension_0009</th>\n",
       "      <th>...</th>\n",
       "      <th>dimension_2038</th>\n",
       "      <th>dimension_2039</th>\n",
       "      <th>dimension_2040</th>\n",
       "      <th>dimension_2041</th>\n",
       "      <th>dimension_2042</th>\n",
       "      <th>dimension_2043</th>\n",
       "      <th>dimension_2044</th>\n",
       "      <th>dimension_2045</th>\n",
       "      <th>dimension_2046</th>\n",
       "      <th>dimension_2047</th>\n",
       "    </tr>\n",
       "  </thead>\n",
       "  <tbody>\n",
       "    <tr>\n",
       "      <th>0</th>\n",
       "      <td>0</td>\n",
       "      <td>0</td>\n",
       "      <td>0</td>\n",
       "      <td>0</td>\n",
       "      <td>0</td>\n",
       "      <td>0</td>\n",
       "      <td>0</td>\n",
       "      <td>0</td>\n",
       "      <td>0</td>\n",
       "      <td>0</td>\n",
       "      <td>...</td>\n",
       "      <td>0</td>\n",
       "      <td>0</td>\n",
       "      <td>0</td>\n",
       "      <td>0</td>\n",
       "      <td>0</td>\n",
       "      <td>0</td>\n",
       "      <td>0</td>\n",
       "      <td>0</td>\n",
       "      <td>0</td>\n",
       "      <td>0</td>\n",
       "    </tr>\n",
       "    <tr>\n",
       "      <th>1</th>\n",
       "      <td>0</td>\n",
       "      <td>0</td>\n",
       "      <td>0</td>\n",
       "      <td>0</td>\n",
       "      <td>0</td>\n",
       "      <td>0</td>\n",
       "      <td>0</td>\n",
       "      <td>0</td>\n",
       "      <td>0</td>\n",
       "      <td>0</td>\n",
       "      <td>...</td>\n",
       "      <td>0</td>\n",
       "      <td>0</td>\n",
       "      <td>0</td>\n",
       "      <td>0</td>\n",
       "      <td>0</td>\n",
       "      <td>0</td>\n",
       "      <td>0</td>\n",
       "      <td>0</td>\n",
       "      <td>0</td>\n",
       "      <td>0</td>\n",
       "    </tr>\n",
       "    <tr>\n",
       "      <th>2</th>\n",
       "      <td>0</td>\n",
       "      <td>1</td>\n",
       "      <td>0</td>\n",
       "      <td>0</td>\n",
       "      <td>0</td>\n",
       "      <td>0</td>\n",
       "      <td>0</td>\n",
       "      <td>0</td>\n",
       "      <td>0</td>\n",
       "      <td>0</td>\n",
       "      <td>...</td>\n",
       "      <td>0</td>\n",
       "      <td>0</td>\n",
       "      <td>0</td>\n",
       "      <td>0</td>\n",
       "      <td>0</td>\n",
       "      <td>0</td>\n",
       "      <td>0</td>\n",
       "      <td>0</td>\n",
       "      <td>0</td>\n",
       "      <td>0</td>\n",
       "    </tr>\n",
       "    <tr>\n",
       "      <th>3</th>\n",
       "      <td>0</td>\n",
       "      <td>1</td>\n",
       "      <td>0</td>\n",
       "      <td>0</td>\n",
       "      <td>0</td>\n",
       "      <td>0</td>\n",
       "      <td>0</td>\n",
       "      <td>0</td>\n",
       "      <td>0</td>\n",
       "      <td>0</td>\n",
       "      <td>...</td>\n",
       "      <td>0</td>\n",
       "      <td>0</td>\n",
       "      <td>0</td>\n",
       "      <td>0</td>\n",
       "      <td>0</td>\n",
       "      <td>0</td>\n",
       "      <td>0</td>\n",
       "      <td>0</td>\n",
       "      <td>0</td>\n",
       "      <td>0</td>\n",
       "    </tr>\n",
       "    <tr>\n",
       "      <th>4</th>\n",
       "      <td>0</td>\n",
       "      <td>0</td>\n",
       "      <td>0</td>\n",
       "      <td>0</td>\n",
       "      <td>0</td>\n",
       "      <td>0</td>\n",
       "      <td>0</td>\n",
       "      <td>0</td>\n",
       "      <td>0</td>\n",
       "      <td>0</td>\n",
       "      <td>...</td>\n",
       "      <td>0</td>\n",
       "      <td>0</td>\n",
       "      <td>0</td>\n",
       "      <td>0</td>\n",
       "      <td>1</td>\n",
       "      <td>0</td>\n",
       "      <td>0</td>\n",
       "      <td>0</td>\n",
       "      <td>0</td>\n",
       "      <td>0</td>\n",
       "    </tr>\n",
       "  </tbody>\n",
       "</table>\n",
       "<p>5 rows × 2048 columns</p>\n",
       "</div>"
      ],
      "text/plain": [
       "   dimension_0000  dimension_0001  dimension_0002  dimension_0003  \\\n",
       "0               0               0               0               0   \n",
       "1               0               0               0               0   \n",
       "2               0               1               0               0   \n",
       "3               0               1               0               0   \n",
       "4               0               0               0               0   \n",
       "\n",
       "   dimension_0004  dimension_0005  dimension_0006  dimension_0007  \\\n",
       "0               0               0               0               0   \n",
       "1               0               0               0               0   \n",
       "2               0               0               0               0   \n",
       "3               0               0               0               0   \n",
       "4               0               0               0               0   \n",
       "\n",
       "   dimension_0008  dimension_0009  ...  dimension_2038  dimension_2039  \\\n",
       "0               0               0  ...               0               0   \n",
       "1               0               0  ...               0               0   \n",
       "2               0               0  ...               0               0   \n",
       "3               0               0  ...               0               0   \n",
       "4               0               0  ...               0               0   \n",
       "\n",
       "   dimension_2040  dimension_2041  dimension_2042  dimension_2043  \\\n",
       "0               0               0               0               0   \n",
       "1               0               0               0               0   \n",
       "2               0               0               0               0   \n",
       "3               0               0               0               0   \n",
       "4               0               0               1               0   \n",
       "\n",
       "   dimension_2044  dimension_2045  dimension_2046  dimension_2047  \n",
       "0               0               0               0               0  \n",
       "1               0               0               0               0  \n",
       "2               0               0               0               0  \n",
       "3               0               0               0               0  \n",
       "4               0               0               0               0  \n",
       "\n",
       "[5 rows x 2048 columns]"
      ]
     },
     "execution_count": 4,
     "metadata": {},
     "output_type": "execute_result"
    }
   ],
   "source": [
    "dfs['comp_train'].head()"
   ]
  },
  {
   "cell_type": "markdown",
   "metadata": {},
   "source": [
    "## **Model Building**  \n",
    "\n",
    "I built four models.\n",
    "1. A **Baseline Model** => Dummy Classifier\n",
    "**Classical ML Models**:\n",
    "2. **Logistic Regression** (baseline interpretable model)  \n",
    "3. **Support Vector Machine (SVC)** (effective for high-dimensional spaces)  \n",
    "4. **Random Forest** (ensemble model for complex patterns)  \n",
    "\n",
    "**Data Splitting Strategy**  \n",
    "Given the limited data size (400 samples), **80/10/10 scaffold split** was was used to maximize training data.\n",
    "\n",
    "**Model Development Workflow**  \n",
    "1. **Baseline Model Training**: The Initial model is trained with default parameters as benchmarks.  \n",
    "2. **Hyperparameter Tuning**: Optimized models using techniques like GridSearch, cross-validation with (10-fold)...\n",
    "3. **Final Evaluation**: Assessed tuned model on the held-out test set.\n",
    "\n",
    "**Evaluation Metrics**  \n",
    "\n",
    "- **Accuracy** (overall correctness)  \n",
    "- **Precision** (minimizing false positives)  \n",
    "- **Recall** (minimizing false negatives)  \n",
    "- **F1-Score** (harmonic mean of precision and recall)  \n",
    "- **ROC-AUC** (model’s ranking capability across thresholds)  \n"
   ]
  },
  {
   "cell_type": "code",
   "execution_count": 5,
   "metadata": {},
   "outputs": [],
   "source": [
    "from sklearn.metrics import (\n",
    "    roc_auc_score,\n",
    "    accuracy_score,\n",
    "    precision_score,                 # Metreics \n",
    "    recall_score, \n",
    ")\n",
    "from sklearn.dummy import DummyClassifier # for baseline modeling\n",
    "from sklearn.linear_model import LogisticRegression\n",
    "from sklearn.pipeline import make_pipeline\n",
    "\n",
    "import numpy as np\n",
    "\n",
    "from sklearn.model_selection import StratifiedKFold, cross_validate\n",
    "from sklearn.metrics import make_scorer\n",
    "from sklearn.svm import SVC\n",
    "from sklearn.feature_selection import SelectKBest, f_classif\n",
    "from sklearn.ensemble import RandomForestClassifier"
   ]
  },
  {
   "cell_type": "markdown",
   "metadata": {},
   "source": [
    "### Setting Baseline\n",
    "\n",
    "Before building more complex models, it's important to establish a **baseline**. A baseline niave model provides a benchmark for evaluating the performance of more sophisticated classifiers.\n",
    "\n",
    "I first calculated **baseline accuracy** by always predicting the majority class. Then I did a **stratified dummy classifier**, that makes predictions based on the class distribution (ignoring the features). This helps us understand the minimum performance we should aim to improve upon.\n",
    "\n",
    "Next, I implemented a **dummy classifier** that makes predictions based solely on the class distribution, without using the input features. This will serve as a simple baseline to compare against other classifiers."
   ]
  },
  {
   "cell_type": "code",
   "execution_count": 6,
   "metadata": {},
   "outputs": [
    {
     "name": "stdout",
     "output_type": "stream",
     "text": [
      "Baseline Majority class Accuracy : 67.8%\n",
      "Scores for dummy classifier\n",
      "_________________________________________\n",
      "Dummy classifier accuracy: 55.00%\n",
      "Dummy classifier Precision: 56.67%\n",
      "Dummy classifier Recall: 77.27%\n",
      "Dummy classifier F1 Score: 65.38%\n",
      "Dummy classifier ROC AUC: 52.53%\n"
     ]
    }
   ],
   "source": [
    "# Calculating baseline accuracy score by always guessing the majority class proportion\n",
    "acc_baseline = y_all.value_counts(normalize=True).max()\n",
    "print(f\"Baseline Majority class Accuracy : {round(acc_baseline*100, 1)}%\")\n",
    "\n",
    "# Instantiate a stratified dummy classifier to make predictions(input_features are ignored).\n",
    "\n",
    "dummy = DummyClassifier(strategy=\"stratified\", random_state=42)\n",
    "# Fit dummy classifier based on the y_train labels\n",
    "dummy.fit(x_train, y_train) # Note: x_all isn't used here, but we still need to pass it to fit method\n",
    "\n",
    "y_pred = dummy.predict(x_valid)\n",
    "y_proba = dummy.predict_proba(x_valid)[:, 1]\n",
    "\n",
    "\n",
    "print(\"Scores for dummy classifier\")\n",
    "print_scores(y_valid, y_pred, y_proba, \"Dummy Classifier\")"
   ]
  },
  {
   "cell_type": "markdown",
   "metadata": {},
   "source": [
    "#### 1. Logistic Regression\n",
    "Let's first start with our good old, Logistic Regression!\n",
    "\n",
    "First, an untuned `LogisticRegression` model to:\n",
    "- Set a performance floor.\n",
    "- Measure how much later tuning improves results.\n"
   ]
  },
  {
   "cell_type": "code",
   "execution_count": 7,
   "metadata": {},
   "outputs": [
    {
     "name": "stdout",
     "output_type": "stream",
     "text": [
      "Logistic Regression scores on training set:\n",
      "_________________________________________\n",
      "Training accuracy: 99.07%\n",
      "Training Precision: 98.70%\n",
      "Training Recall: 100.00%\n",
      "Training F1 Score: 99.34%\n",
      "Training ROC AUC: 99.55%\n",
      "Logistic Regression scores on validation set:\n",
      "_________________________________________\n",
      "Validation accuracy: 52.50%\n",
      "Validation Precision: 55.17%\n",
      "Validation Recall: 72.73%\n",
      "Validation F1 Score: 62.75%\n",
      "Validation ROC AUC: 52.53%\n"
     ]
    }
   ],
   "source": [
    "model = make_pipeline(LogisticRegression(random_state=42))\n",
    "model.fit(x_train, y_train)\n",
    "\n",
    "y_train_pred = model.predict(x_train)\n",
    "y_train_proba = model.predict_proba(x_train)[:, 1]\n",
    "\n",
    "y_pred = model.predict(x_valid)\n",
    "y_proba = model.predict_proba(x_valid)[:, 1]\n",
    "\n",
    "print(\"Logistic Regression scores on training set:\")\n",
    "print_scores(y_train, y_train_pred, y_train_proba, \"Training\")\n",
    "print(\"Logistic Regression scores on validation set:\")\n",
    "print_scores(y_valid, y_pred, y_proba, \"Validation\")"
   ]
  },
  {
   "cell_type": "markdown",
   "metadata": {},
   "source": [
    "**lr with Best Hyperparameters**\n",
    "\n",
    "I retrain and evaluate the model using the best-found hyperparameters from tuning.   \n",
    "Compared to the default configuration: \n",
    "\n",
    "- Selected top 900 features using `SelectKBest(f_classif)`\n",
    "- Logistic Regression with:\n",
    "  - `C = 0.09` (regularization strength)\n",
    "  - `penalty = \"elasticnet\"` with `l1_ratio = 0.2`\n",
    "  - `solver = \"saga\"` for compatibility with elastic net\n",
    "  - `warm_start = True` for faster convergence\n",
    "  - `max_iter = 800` to limit iterations and reducing the severe overfitting on training data\n",
    "\n",
    "I chosed these values were based on performance observed during hyperparameter tuning (e.g., GridSearchCV or similar).\n"
   ]
  },
  {
   "cell_type": "code",
   "execution_count": 8,
   "metadata": {},
   "outputs": [
    {
     "name": "stdout",
     "output_type": "stream",
     "text": [
      "Logistic Regression scores on training set:\n",
      "_________________________________________\n",
      "Training accuracy: 78.02%\n",
      "Training Precision: 76.53%\n",
      "Training Recall: 99.12%\n",
      "Training F1 Score: 86.37%\n",
      "Training ROC AUC: 84.44%\n",
      "Logistic Regression scores on validation set:\n",
      "_________________________________________\n",
      "Validation accuracy: 62.50%\n",
      "Validation Precision: 61.29%\n",
      "Validation Recall: 86.36%\n",
      "Validation F1 Score: 71.70%\n",
      "Validation ROC AUC: 60.86%\n"
     ]
    }
   ],
   "source": [
    "lr =make_pipeline( SelectKBest(f_classif, k=1200),\n",
    "                  LogisticRegression(\n",
    "        C=np.float64(.099),\n",
    "        penalty=\"elasticnet\",\n",
    "        l1_ratio=0.19, \n",
    "        solver=\"saga\",\n",
    "        warm_start= True,\n",
    "        max_iter=800,\n",
    "        random_state=42\n",
    "    )\n",
    ")\n",
    "lr.fit(x_train, y_train)\n",
    "\n",
    "y_train_pred = lr.predict(x_train)\n",
    "y_train_proba = lr.predict_proba(x_train)[:, 1]\n",
    "\n",
    "y_pred = lr.predict(x_valid)\n",
    "y_proba = lr.predict_proba(x_valid)[:, 1]\n",
    "\n",
    "\n",
    "print(\"Logistic Regression scores on training set:\")\n",
    "print_scores(y_train, y_train_pred, y_train_proba, \"Training\")\n",
    "print(\"Logistic Regression scores on validation set:\")\n",
    "print_scores(y_valid, y_pred, y_proba, \"Validation\")"
   ]
  },
  {
   "cell_type": "markdown",
   "metadata": {},
   "source": [
    "**Model Performance on Testing Data**  \n",
    "\n",
    "Tuned logistic regression maintains 66% accuracy with 75% ROC_AUC, showing consistent generalization (test ≥ validation scores).  "
   ]
  },
  {
   "cell_type": "code",
   "execution_count": 9,
   "metadata": {},
   "outputs": [
    {
     "name": "stdout",
     "output_type": "stream",
     "text": [
      "Evaluating on test set:\n",
      "_________________________________________\n",
      "Test accuracy: 65.85%\n",
      "Test Precision: 65.71%\n",
      "Test Recall: 92.00%\n",
      "Test F1 Score: 76.67%\n",
      "Test ROC AUC: 73.00%\n"
     ]
    }
   ],
   "source": [
    "y_test_pred = lr.predict(x_test)\n",
    "y_test_proba = lr.predict_proba(x_test)[:, 1]\n",
    "\n",
    "print(\"Evaluating on test set:\")\n",
    "print_scores(y_test, y_test_pred, y_test_proba, \"Test\")"
   ]
  },
  {
   "cell_type": "markdown",
   "metadata": {},
   "source": [
    "#### **lr Feature Importance**\n",
    "\n",
    "The chart shows top features logistic model's decisions.\n",
    "\n",
    "- **Green bars** (positive coefficients) associated with predicting *non-sensitizers*.\n",
    "- **Red bars** (negative coefficients) associated with predicting *sensitizer*.\n",
    "\n",
    "Notably, all features on the y-axis are prefixed with `fps-`, signifying fingerprint-based features. This suggests that our model sees Morgan fingerprint featurizer's data is more prominent in model performance compared to compound embeddings."
   ]
  },
  {
   "cell_type": "code",
   "execution_count": 9,
   "metadata": {},
   "outputs": [
    {
     "data": {
      "image/png": "[encoded data removed]",
      "text/plain": [
       "<Figure size 1000x600 with 1 Axes>"
      ]
     },
     "metadata": {},
     "output_type": "display_data"
    }
   ],
   "source": [
    "# Extract model from pipe\n",
    "lr_model = lr.named_steps['logisticregression']\n",
    "selected_features = x_train.columns[lr.named_steps['selectkbest'].get_support()]\n",
    "\n",
    "\n",
    "coefficients = lr_model.coef_[0]  # shape: (n_features,)\n",
    "assert len(coefficients) == len(selected_features), \"Mismatch between coefficients and selected features\"\n",
    "\n",
    "feature_importance = pd.Series(coefficients, index=selected_features)\n",
    "\n",
    "# Sort and get top 10 positive and negative features\n",
    "top_positive = feature_importance.sort_values(ascending=False).head(5)\n",
    "top_negative = feature_importance.sort_values().head(5)\n",
    "\n",
    "# Combine for visualization\n",
    "top_features = pd.concat([top_negative, top_positive])\n",
    "plt.figure(figsize=(10, 6))\n",
    "top_features.plot(kind='barh', color=['red' if c < 0 else 'green' for c in top_features])\n",
    "plt.title('Top Features Driving \"sensitizer\" or \"non-sensitizer\" Predictions')\n",
    "plt.xlabel('Coefficient Value')\n",
    "plt.ylabel('Feature')\n",
    "plt.tight_layout()\n",
    "plt.show()"
   ]
  },
  {
   "cell_type": "markdown",
   "metadata": {},
   "source": [
    "**🧮 lr Confusion Matrix**\n",
    "\n",
    "Logistic Regression model performs well overall on the test set, with 14 out of 41 predictions misclassified. However, it struggles more with the non-sensitizer class (0), exhibiting 14 false positives while having zero false negatives for the sensitizer class (1).  This suggests a potential bias towards predicting the positive class."
   ]
  },
  {
   "cell_type": "code",
   "execution_count": 10,
   "metadata": {},
   "outputs": [
    {
     "data": {
      "image/png": "[encoded data removed]",
      "text/plain": [
       "<Figure size 640x480 with 2 Axes>"
      ]
     },
     "metadata": {},
     "output_type": "display_data"
    }
   ],
   "source": [
    "plot_metric(lr, x_test, y_test, \"Logistic Regression Model-Test Set\", show_mat=True, show_roc=False)"
   ]
  },
  {
   "cell_type": "markdown",
   "metadata": {},
   "source": [
    "**lr ROC Curve Insights** \n",
    "\n",
    "The curve plots the true positive Rate `(TPR)` against the False Positive Rate `(FPR)`,  shows moderate model performance with an AUC of 0.75, indicating it's better than random gussing but could be improved.\n",
    "\n",
    "The jagged, stair-step shape suggests the model's predicted probabilities are not well-calibrated.This means model's confidence scores may not accurately reflect the true likelihood.\n",
    "\n",
    "**E.g.** When the model says \"I'm 60% confident this is a positive result\", in reality (when it gives that 0.6 prediction), the actual outcome is positive more or less often than 60% of the time. "
   ]
  },
  {
   "cell_type": "code",
   "execution_count": 11,
   "metadata": {},
   "outputs": [
    {
     "data": {
      "image/png": "[encoded data removed]",
      "text/plain": [
       "<Figure size 640x480 with 1 Axes>"
      ]
     },
     "metadata": {},
     "output_type": "display_data"
    }
   ],
   "source": [
    "plot_metric(lr, x_test, y_test, \"Logistic Regression Model-Test Set\", show_mat=False, show_roc=True)"
   ]
  },
  {
   "cell_type": "markdown",
   "metadata": {},
   "source": [
    "#### 2. SVC (Support Vector Classifier)\n",
    "\n",
    "Next, I will switch to a SVC since logistic regression didn't perform well. SVC is a bit more complex, offers non-linear decision boundaries and high-dimensional data.\n",
    "\n",
    "First, an untuned `SVC` model to:\n",
    "- Set a performance floor.\n",
    "- Measure how much later tuning improves results.\n",
    "\n",
    "Model is trained on the training data, and its performance is evaluated on both the training and validation sets."
   ]
  },
  {
   "cell_type": "code",
   "execution_count": 12,
   "metadata": {},
   "outputs": [
    {
     "name": "stdout",
     "output_type": "stream",
     "text": [
      "_________________________________________\n",
      "Training accuracy: 90.71%\n",
      "Training Precision: 88.33%\n",
      "Training Recall: 100.00%\n",
      "Training F1 Score: 93.80%\n",
      "Training ROC AUC: 98.41%\n",
      "_________________________________________\n",
      "Validation accuracy: 60.00%\n",
      "Validation Precision: 57.89%\n",
      "Validation Recall: 100.00%\n",
      "Validation F1 Score: 73.33%\n",
      "Validation ROC AUC: 72.22%\n"
     ]
    }
   ],
   "source": [
    "model = make_pipeline(SVC(probability=True, random_state=42))\n",
    "\n",
    "model.fit(x_train, y_train)\n",
    "\n",
    "y_train_pred = model.predict(x_train)\n",
    "y_train_proba = model.predict_proba(x_train)[:, 1]\n",
    "\n",
    "y_pred = model.predict(x_valid)\n",
    "y_proba = model.predict_proba(x_valid)[:, 1]\n",
    "\n",
    "print_scores(y_train, y_train_pred, y_train_proba, \"Training\")\n",
    "print_scores(y_valid, y_pred, y_proba, \"Validation\")\n"
   ]
  },
  {
   "cell_type": "markdown",
   "metadata": {},
   "source": [
    "### 🔧 Model Tuning Setup (Used Repeatedly)\n",
    "\n",
    "The next cell is a repeated workflow used throughout this notebook to manually tune and evaluate different models. \n",
    "It includes: \n",
    "\n",
    "- **Stratified 10-Fold Cross-Validation** to ensure balanced class distribution in each fold.\n",
    "- **Manual hyperparameter tuning** by adjusting the model parameters directly in the code.\n",
    "- **Brute-force Grid Search (externally run)** on Google Colab with an extended range of hyperparameters, used at certain points to guide manual tuning.\n",
    "- **Feature selection** using `SelectKBest` to reduce dimensionality before fitting the model.\n",
    "- **Custom scoring metrics** such as accuracy, ROC_AUC, precision, and recall, evaluated using cross-validation. For each metric, the **average and standard deviation across folds** are printed for both training and test folds. \n",
    "\n",
    "\n",
    "This setup helped me to understand the generalization and the overfitting behavior of each model."
   ]
  },
  {
   "cell_type": "code",
   "execution_count": 26,
   "metadata": {},
   "outputs": [],
   "source": [
    "# # Recommended SVC parameters with feature selection\n",
    "# svc_clf = make_pipeline(SelectKBest(f_classif, k=1550), SVC(\n",
    "#         probability=True,\n",
    "#         C= 0.32,\n",
    "#         # kernel='',\n",
    "#         max_iter=23,\n",
    "#         random_state=42\n",
    "#     )\n",
    "# )\n",
    "\n",
    "# pipeline = make_pipeline(svc_clf)\n",
    "# cv = StratifiedKFold(n_splits=10)\n",
    "# # Custom scoring metrics\n",
    "# scoring = {'accuracy': make_scorer(accuracy_score), 'roc_auc': make_scorer(roc_auc_score), 'percision': make_scorer(precision_score),'recall': make_scorer(recall_score)}\n",
    "# # Run CV\n",
    "# scores = cross_validate(pipeline, x_train, y_train, cv=cv, scoring=scoring, return_train_score=True)\n",
    "# print(\"Cross-validation results:\")\n",
    "# # printing scores\n",
    "# for key in scores:\n",
    "#     if key.startswith(\"test_\"):\n",
    "#         label = f\"* {key}\"\n",
    "#         print(f\"{label}: {scores[key].mean():.4f} ± {scores[key].std():.4f}\")\n",
    "# for key in scores:\n",
    "#     if key.startswith(\"train_\"):\n",
    "#         print(f\"{key}: {scores[key].mean():.4f} ± {scores[key].std():.4f}\")"
   ]
  },
  {
   "cell_type": "markdown",
   "metadata": {},
   "source": [
    "**SVC with Optimized Hyperparameters**\n",
    "\n",
    "I train and evaluate the model using the best-performing parameters found during tuning. The pipeline includes feature selection using `SelectKBest` with `f_classif`, selecting the top 1550 features, followed by an SVM classifier (`SVC`) with the following settings: \n",
    "\n",
    "- `C = 0.32`: Controls the trade-off between margin size and classification accuracy. Lower values allow a softer margin, helping to avoid overfitting.\n",
    "- `max_iter = 23`: Limits iterations the optimizer runs. Helps reduce training time and can act as a form of early stopping. \n",
    "- `random_state = 42`: fixing the model's randomness for reproducability. \n",
    "- `probability = True`: Enables probability predictions (instead of just class labels), required by `roc_auc_score` function to calculate ROC"
   ]
  },
  {
   "cell_type": "code",
   "execution_count": 13,
   "metadata": {},
   "outputs": [
    {
     "name": "stdout",
     "output_type": "stream",
     "text": [
      "_________________________________________\n",
      "Training accuracy: 75.85%\n",
      "Training Precision: 79.92%\n",
      "Training Recall: 87.67%\n",
      "Training F1 Score: 83.61%\n",
      "Training ROC AUC: 78.85%\n",
      "_________________________________________\n",
      "Validation accuracy: 70.00%\n",
      "Validation Precision: 75.00%\n",
      "Validation Recall: 68.18%\n",
      "Validation F1 Score: 71.43%\n",
      "Validation ROC AUC: 79.55%\n"
     ]
    }
   ],
   "source": [
    "# Recommended SVC parameters with feature selection\n",
    "svc_clf = make_pipeline(SelectKBest(f_classif, k=1550), SVC(\n",
    "        probability=True,\n",
    "        C= 0.32,\n",
    "        # kernel='',\n",
    "        max_iter=23,\n",
    "        random_state=42\n",
    "    )\n",
    ")\n",
    "svc_clf.fit(x_train, y_train)\n",
    "\n",
    "y_train_pred = svc_clf.predict(x_train)\n",
    "y_train_proba = svc_clf.predict_proba(x_train)[:, 1]\n",
    "\n",
    "y_pred = svc_clf.predict(x_valid)\n",
    "y_proba = svc_clf.predict_proba(x_valid)[:, 1]\n",
    "\n",
    "# Modify y_proba in place by setting values below the threshold to 0 (or another value)\n",
    "\n",
    "print_scores(y_train, y_train_pred, y_train_proba, \"Training\")\n",
    "print_scores(y_valid, y_pred, y_proba, \"Validation\")"
   ]
  },
  {
   "cell_type": "markdown",
   "metadata": {},
   "source": [
    "**📊 Evaluating the Optimized SVC Model on the Test Set**\n",
    "\n",
    "I evaluate optimized model performance on test set to assess generalization to unseen data.\n",
    "\n",
    "The following metrics were calculated:\n",
    "- **Accuracy**: 73.17%  \n",
    "  Indicates the percentage of correct predictions out of all test examples.\n",
    "- **Precision**: 73.33%  \n",
    " Higher precision reduces false positives.\n",
    "- **Recall**: 88.00%  \n",
    "  Higher recall reduces false negatives.\n",
    "- **F1 Score**: 80.00%  \n",
    "  Harmonic mean of precision and recall. A balanced metric when both false positives and false negatives matter.\n",
    "- **ROC AUC**: 80.75%  \n",
    "  Evaluates model's ability to distinguish between classes across all thresholds. AUC close to 1.0 indicates strong separability.\n",
    "\n",
    "Results suggest that the optimized SVC model performs well, particularly in maintaining a good balance of overall performance across metrics."
   ]
  },
  {
   "cell_type": "code",
   "execution_count": 14,
   "metadata": {},
   "outputs": [
    {
     "name": "stdout",
     "output_type": "stream",
     "text": [
      "Evaluating SVC on test set:\n",
      "_________________________________________\n",
      "Test accuracy: 63.41%\n",
      "Test Precision: 75.00%\n",
      "Test Recall: 60.00%\n",
      "Test F1 Score: 66.67%\n",
      "Test ROC AUC: 71.25%\n"
     ]
    }
   ],
   "source": [
    "y_test_pred = svc_clf.predict(x_test).astype(int)\n",
    "y_test_proba = svc_clf.predict_proba(x_test)[:, 1]\n",
    "\n",
    "\n",
    "print(\"Evaluating SVC on test set:\")\n",
    "print_scores(y_test, y_test_pred, y_test_proba, \"Test\")"
   ]
  },
  {
   "cell_type": "markdown",
   "metadata": {},
   "source": [
    "#### **lr Feature Importance**\n"
   ]
  },
  {
   "cell_type": "code",
   "execution_count": 11,
   "metadata": {},
   "outputs": [
    {
     "data": {
      "image/png": "[encoded data removed]",
      "text/plain": [
       "<Figure size 800x480 with 1 Axes>"
      ]
     },
     "metadata": {},
     "output_type": "display_data"
    }
   ],
   "source": [
    "# Get the SelectKBest step from the pipeline.\n",
    "selector = svc_clf.named_steps['selectkbest']\n",
    "\n",
    "# Get the feature score.\n",
    "feature_scores = selector.scores_\n",
    "# feature_pvalues = selector.pvalues_  # You could also look at p-values if interested\n",
    "\n",
    "# Get the feature names.\n",
    "if hasattr(x_train, 'columns'):\n",
    "    feature_names = x_train.columns\n",
    "else:\n",
    "    feature_names = np.arange(x_train.shape[1])\n",
    "\n",
    "# Get the indices of the features (top k=1550)\n",
    "selected_indices = selector.get_support(indices=True)\n",
    "\n",
    "# Get the scores and names of selected features\n",
    "selected_scores = feature_scores[selected_indices]\n",
    "selected_names = feature_names[selected_indices]\n",
    "\n",
    "# Sort the selected features by score and get top 5.]\n",
    "top5_indices = np.argsort(selected_scores)[-5:][::-1]\n",
    "top5_scores = selected_scores[top5_indices]\n",
    "top5_names = selected_names[top5_indices]\n",
    "\n",
    "# Create the plot\n",
    "plt.figure(figsize=(10, 6))\n",
    "plt.barh(top5_names, top5_scores, color='skyblue')\n",
    "plt.xlabel('ANOVA F-value Score')\n",
    "plt.title('Top 5 Most Important Features')\n",
    "plt.gca().invert_yaxis()  # Highest score at top\n",
    "plt.show()"
   ]
  },
  {
   "cell_type": "markdown",
   "metadata": {},
   "source": [
    "**🧮 Visualizing SVC Classification Results**\n",
    "\n",
    "To further interpret the SVC model's performance, I plotted a confusion matrix to illustrate how well the model distinguishes between the two classes, showing overall accuracy and the distribution of predictions. \n",
    "\n",
    "In the matrix:\n",
    "- The **top-left (8)** represents **true negatives**: correctly predicted class 0.\n",
    "- The **bottom-right (22)** shows **true positives**: correctly predicted class 1.\n",
    "- The **top-right (8)** are **false positives**: class 0 incorrectly predicted as class 1.\n",
    "- The **bottom-left (3)** are **false negatives**: class 1 incorrectly predicted as class 0.\n",
    "\n",
    "Imbalanced data in favor of class 1 (Sensitizers) makes high recall expected. This matrix confirms capturing most positives, though it misclassifies some negatives, highlighting a trade-off in precision."
   ]
  },
  {
   "cell_type": "code",
   "execution_count": 12,
   "metadata": {},
   "outputs": [
    {
     "data": {
      "image/png": "[encoded data removed]",
      "text/plain": [
       "<Figure size 640x480 with 2 Axes>"
      ]
     },
     "metadata": {},
     "output_type": "display_data"
    }
   ],
   "source": [
    "plot_metric(svc_clf, x_test, y_test, \"SVC Model-Test Set\", show_mat=True, show_roc=False)"
   ]
  },
  {
   "cell_type": "markdown",
   "metadata": {},
   "source": [
    "**SVC ROC Curve**\n",
    "\n",
    "The ROC curve below visualizes my SVC's ability to distinguish between classes (**\"1\" vs \"0\"**) at different classification thresholds.\n",
    "\n",
    "- **(AUC = 0.81)** => Better than most baseline models:\n",
    "\n",
    "  - Curves sharply toward the top-left → Strong separability  \n",
    "  - **Practical meaning**: 81% chance model ranks a random positive instance higher than a random negative one."
   ]
  },
  {
   "cell_type": "code",
   "execution_count": 31,
   "metadata": {},
   "outputs": [
    {
     "data": {
      "image/png": "[encoded data removed]",
      "text/plain": [
       "<Figure size 640x480 with 1 Axes>"
      ]
     },
     "metadata": {},
     "output_type": "display_data"
    }
   ],
   "source": [
    "plot_metric(svc_clf, x_test, y_test, \"SVC Model-Test Set\", show_mat=False, show_roc=True)"
   ]
  },
  {
   "cell_type": "code",
   "execution_count": 32,
   "metadata": {},
   "outputs": [],
   "source": [
    "# # This is just garpage ignore it\n",
    "# import numpy as np\n",
    "# from sklearn.metrics import make_scorer\n",
    "# import warnings\n",
    "# from sklearn.exceptions import ConvergenceWarning\n",
    "# from sklearn.model_selection import GridSearchCV\n",
    "\n",
    "# warnings.filterwarnings(\"ignore\", category=ConvergenceWarning)\n",
    "\n",
    "\n",
    "# def mean_perc_roc_auc(y_true, y_pred_proba):\n",
    "#     y_pred = (y_pred_proba >= 0.5).astype(int)  # turn probs into 0/1 labels\n",
    "#     perc = precision_score(y_true, y_pred)\n",
    "#     auc = roc_auc_score(y_true, y_pred_proba)\n",
    "#     accuracy = accuracy_score(y_true, y_pred)\n",
    "#     return (perc + auc + accuracy) / 3\n",
    "\n",
    "# # Tell make_scorer that our function needs the predicted probabilities\n",
    "# scorer = make_scorer(mean_perc_roc_auc, needs_proba=True)\n",
    "\n",
    "\n",
    "# # Create the pipeline\n",
    "# pipeline = make_pipeline(\n",
    "#     SVC(probability=True, random_state=42, C=1.6,kernel = 'rbf', gamma=0.032) \n",
    "#     )\n",
    "\n",
    "# param_grid = {\n",
    "#     'svc__max_iter': np.random.randint(20, 70, 10),\n",
    "# }\n",
    "\n",
    "# cv = StratifiedKFold(n_splits=10, shuffle=True, random_state=42)\n",
    "\n",
    "# # Set up GridSearchCV with the pipeline\n",
    "# grid_search = GridSearchCV(\n",
    "#     estimator=pipeline,       # your model pipeline\n",
    "#     param_grid=param_grid,    # the params to test\n",
    "#     scoring=scorer,\n",
    "#     n_jobs=-1,           # our custom scoring function\n",
    "#     cv=cv,                  # cross-validation folds\n",
    "#     return_train_score= True\n",
    "# )\n",
    "\n",
    "\n",
    "\n",
    "# grid_search.fit(x_train, y_train)\n",
    "# y_pred = grid_search.predict(x_valid)\n",
    "# y_proba = grid_search.predict_proba(x_valid)[:, 1]\n",
    "# print_scores(y_valid, y_pred, y_proba, \"Validation\")"
   ]
  },
  {
   "cell_type": "markdown",
   "metadata": {},
   "source": [
    "## Random Forest (RF)\n",
    "\n",
    "After tried both Logistic Regression and Support Vector Classifier, I turned to a tree-based ensemble model: **Random Forest**. As the saying goes, _\"two heads are better than one\"_—and Random Forest takes that to the next level with **n_estimators** working together.\n",
    "\n",
    "Unlike LR and SVC, RFs capture **complex relationships** without manual feature engineering or choosing kernels.it's **less sensitive to noise and outliers**.\n",
    "\n",
    "strengths of Random Forest:\n",
    "- **Handles high-dimensional input** effectively.\n",
    "- Doesn’t assume linearity (unlike LR or SVC).\n",
    "- Automatically selects informative features via **feature bagging**.\n",
    "- Requires **minimal preprocessing** or heavy data **scaling** or transformations.\n",
    "- Well-suited for datasets like mine, which include a wide range of **SMILES lengths** (4–98, std dev ≈ 15.9), which can destabilize strong models.\n"
   ]
  },
  {
   "cell_type": "code",
   "execution_count": 14,
   "metadata": {},
   "outputs": [
    {
     "name": "stdout",
     "output_type": "stream",
     "text": [
      "_________________________________________\n",
      "Training accuracy: 99.07%\n",
      "Training Precision: 98.70%\n",
      "Training Recall: 100.00%\n",
      "Training F1 Score: 99.34%\n",
      "Training ROC AUC: 99.33%\n",
      "_________________________________________\n",
      "Validation accuracy: 67.50%\n",
      "Validation Precision: 65.52%\n",
      "Validation Recall: 86.36%\n",
      "Validation F1 Score: 74.51%\n",
      "Validation ROC AUC: 71.84%\n"
     ]
    }
   ],
   "source": [
    "# Create the XGBoost model with desired params\n",
    "model = RandomForestClassifier(random_state=42) # min_samples_leaf=2\n",
    "\n",
    "# Fit model\n",
    "model.fit(x_train, y_train)\n",
    "\n",
    "# Predictions\n",
    "y_train_pred = model.predict(x_train)\n",
    "y_train_proba = model.predict_proba(x_train)[:, 1]\n",
    "\n",
    "y_pred = model.predict(x_valid)\n",
    "y_proba = model.predict_proba(x_valid)[:, 1]\n",
    "\n",
    "\n",
    "\n",
    "# Evaluate\n",
    "print_scores(y_train, y_train_pred, y_train_proba, \"Training\")\n",
    "print_scores(y_valid, y_pred, y_proba, \"Validation\")"
   ]
  },
  {
   "cell_type": "markdown",
   "metadata": {},
   "source": [
    "### 🔧 Model Tuning Setup (Used Repeatedly)\n",
    "\n",
    "The next cell is a repeated workflow used throughout this notebook to manually tune and evaluate different models. \n",
    "It includes: \n",
    "\n",
    "- **Stratified 10-Fold Cross-Validation** to ensure balanced class distribution in each fold.\n",
    "- **Manual hyperparameter tuning** by adjusting the model parameters directly in the code.\n",
    "- **Brute-force Grid Search (externally run)** on Google Colab with an extended range of hyperparameters, used at certain points to guide manual tuning.\n",
    "- **Feature selection** using `SelectKBest` to reduce dimensionality before fitting the model.\n",
    "- **Custom scoring metrics** such as accuracy, ROC_AUC, precision, and recall, evaluated using cross-validation. For each metric, the **average and standard deviation across folds** are printed for both training and test folds. \n",
    "\n",
    "\n",
    "This setup helped me to understand the generalization and the overfitting behavior of each model."
   ]
  },
  {
   "cell_type": "code",
   "execution_count": 28,
   "metadata": {},
   "outputs": [
    {
     "name": "stdout",
     "output_type": "stream",
     "text": [
      "Cross-validation results:\n",
      "* test_accuracy: 0.7367 ± 0.1358\n",
      "* test_roc_auc: 0.5985 ± 0.1872\n",
      "* test_percision: 0.7545 ± 0.1104\n",
      "* test_recall: 0.9470 ± 0.1106\n",
      "train_accuracy: 0.9553 ± 0.0065\n",
      "train_roc_auc: 0.9247 ± 0.0110\n",
      "train_percision: 0.9402 ± 0.0082\n",
      "train_recall: 1.0000 ± 0.0000\n"
     ]
    }
   ],
   "source": [
    "from sklearn.model_selection import StratifiedKFold, cross_validate\n",
    "\n",
    "# Define the model\n",
    "rf_clf = RandomForestClassifier(\n",
    "     criterion='gini', n_estimators=16, max_depth=12,random_state=42,\n",
    "    #   min_impurity_decrease=0.00002, \n",
    "    #  min_impurity_decrease=1\n",
    ")\n",
    "\n",
    "# rf_clf = RandomForestClassifier(\n",
    "#      criterion='gini', n_estimators=20, max_depth=16,random_state=42,min_impurity_decrease=0.0002\n",
    "# )\n",
    "\n",
    "# Define the model\n",
    "rf_clf = RandomForestClassifier(\n",
    "     criterion='gini', n_estimators=40, max_depth=25,random_state=42,\n",
    "      min_impurity_decrease=0.00002, \n",
    "    #  min_impurity_decrease=1\n",
    ")\n",
    "# If no preprocessing, you can skip `make_pipeline` and use model directly.\n",
    "pipeline = make_pipeline(rf_clf)\n",
    "\n",
    "# Set up Stratified K-Fold\n",
    "# cv = StratifiedKFold(n_splits=10)\n",
    "cv = StratifiedKFold(n_splits=50)\n",
    "\n",
    "# Custom scoring metrics\n",
    "scoring = {'accuracy': make_scorer(accuracy_score), 'roc_auc': make_scorer(roc_auc_score), 'percision': make_scorer(precision_score),'recall': make_scorer(recall_score)}\n",
    "# Run CV\n",
    "scores = cross_validate(pipeline, x_train, y_train, cv=cv, scoring=scoring, return_train_score=True)\n",
    "print(\"Cross-validation results:\")\n",
    "# printing scores\n",
    "for key in scores:\n",
    "    if key.startswith(\"test_\"):\n",
    "        label = f\"* {key}\"\n",
    "        print(f\"{label}: {scores[key].mean():.4f} ± {scores[key].std():.4f}\")\n",
    "for key in scores:\n",
    "    if key.startswith(\"train_\"):\n",
    "        print(f\"{key}: {scores[key].mean():.4f} ± {scores[key].std():.4f}\")"
   ]
  },
  {
   "cell_type": "markdown",
   "metadata": {},
   "source": [
    "**RF with Optimized Hyperparameters**\n",
    "\n",
    "After testing various combinations of parameters, I found that the following configuration gave the best performance for my dataset:\n",
    "\n",
    "- `criterion = 'gini'`: Uses Gini impurity measure to evaluate splits. It's computationally efficient and typically performs well for classification tasks.\n",
    "- `n_estimators = 16`: A relatively small number of trees to reduce training time and overfitting while still benefiting from ensemble averaging to lower variance.\n",
    "- `max_depth = 12`: Limits how deep each tree can grow, helping to prevent overfitting and encouraging generalization by restricting overly complex patterns.\n",
    "- `random_state = 42`: Ensures reproducibility of results by controlling the randomness in bootstrapping and feature selection.\n",
    "\n",
    "This setup balances complexity and generalization while keeping the model deep enough to capture patterns in the data without overfitting"
   ]
  },
  {
   "cell_type": "code",
   "execution_count": 36,
   "metadata": {},
   "outputs": [
    {
     "name": "stdout",
     "output_type": "stream",
     "text": [
      "_________________________________________\n",
      "Training accuracy: 93.19%\n",
      "Training Precision: 91.16%\n",
      "Training Recall: 100.00%\n",
      "Training F1 Score: 95.38%\n",
      "Training ROC AUC: 98.08%\n",
      "_________________________________________\n",
      "Validation accuracy: 72.50%\n",
      "Validation Precision: 68.97%\n",
      "Validation Recall: 90.91%\n",
      "Validation F1 Score: 78.43%\n",
      "Validation ROC AUC: 75.00%\n"
     ]
    }
   ],
   "source": [
    "# Define the model\n",
    "rf_clf = RandomForestClassifier(\n",
    "     criterion='gini', n_estimators=40, max_depth=25,random_state=42,\n",
    "      min_impurity_decrease=0.0009, \n",
    "    #  min_impurity_decrease=1\n",
    ")\n",
    "\n",
    "# Fit model\n",
    "rf_clf.fit(x_train, y_train)\n",
    "\n",
    "# Predictions\n",
    "y_train_pred = rf_clf.predict(x_train)\n",
    "y_train_proba = rf_clf.predict_proba(x_train)[:, 1]\n",
    "\n",
    "y_pred = rf_clf.predict(x_valid)\n",
    "y_proba = rf_clf.predict_proba(x_valid)[:, 1]\n",
    "\n",
    "\n",
    "\n",
    "# Evaluate\n",
    "print_scores(y_train, y_train_pred, y_train_proba, \"Training\")\n",
    "print_scores(y_valid, y_pred, y_proba, \"Validation\")"
   ]
  },
  {
   "cell_type": "code",
   "execution_count": 19,
   "metadata": {},
   "outputs": [
    {
     "data": {
      "text/plain": [
       "Y\n",
       "1    0.55\n",
       "0    0.45\n",
       "Name: proportion, dtype: float64"
      ]
     },
     "execution_count": 19,
     "metadata": {},
     "output_type": "execute_result"
    }
   ],
   "source": [
    "# our valid set looks like it isn't representive of our whole data set at all!!\n",
    "y_valid.value_counts(normalize=True)"
   ]
  },
  {
   "cell_type": "markdown",
   "metadata": {},
   "source": [
    "### 🏅**📊 Evaluating RF model on the Test Set (Top Model)** \n",
    "\n",
    "After  tuning, the Random Forest model shows promising improvements over our baseline SVC. Let's evaluate its performance on the test set.\n",
    "\n",
    "#### 📊 ** Test Set Metrics**\n",
    "- **Accuracy**: 75.6% — indicates the overall proportion of correct predictions.\n",
    "- **Precision**: 77.8% — reflects that nearly 78% of positive predictions were correct.\n",
    "- **Recall**: 84% — shows the model successfully identified 84% of all actual positives.\n",
    "- **F1 Score**: 80.8% — the harmonic mean of precision and recall, balancing both aspects.\n",
    "\n",
    "- It maintained a better balance across all metrics \n",
    "- It achieved higher precision without sacrificing too much recall.\n",
    "\n",
    "*advantages*:  \n",
    "✓ Better overall accuracy  \n",
    "✓ Improved precision-recall balance  \n",
    "✓ More consistent performance across metrics"
   ]
  },
  {
   "cell_type": "code",
   "execution_count": 189,
   "metadata": {},
   "outputs": [
    {
     "name": "stdout",
     "output_type": "stream",
     "text": [
      "Evaluating on test set:\n",
      "_________________________________________\n",
      "Test accuracy: 70.73%\n",
      "Test Precision: 68.57%\n",
      "Test Recall: 96.00%\n",
      "Test F1 Score: 80.00%\n",
      "Test ROC AUC: 66.62%\n"
     ]
    }
   ],
   "source": [
    "\n",
    "# Define the model\n",
    "rf_clf = RandomForestClassifier(\n",
    "     criterion='entropy', n_estimators=70,random_state=42,\n",
    "     min_impurity_decrease=.000001,\n",
    ")\n",
    "\n",
    "# Fit model\n",
    "rf_clf.fit(x_train, y_train)\n",
    "#  Evaluate on test set\n",
    "y_test_pred = rf_clf.predict(x_test)\n",
    "y_test_proba = rf_clf.predict_proba(x_test)[:, 1]\n",
    "\n",
    "print(\"Evaluating on test set:\")\n",
    "print_scores(y_test, y_test_pred, y_test_proba, \"Test\")"
   ]
  },
  {
   "cell_type": "code",
   "execution_count": null,
   "metadata": {},
   "outputs": [],
   "source": [
    "Evaluating on test set:\n",
    "_________________________________________\n",
    "Test accuracy: 70.73%\n",
    "Test Precision: 68.57%\n",
    "Test Recall: 96.00%\n",
    "Test F1 Score: 80.00%\n",
    "Test ROC AUC: 77.25%\n",
    "# Define the model\n",
    "\n",
    "# Define the model\n",
    "rf_clf = RandomForestClassifier(\n",
    "     criterion='gini', n_estimators=43,random_state=42,\n",
    "    #   min_impurity_decrease=0.000009, \n",
    "     min_impurity_decrease=.00033\n",
    ")"
   ]
  },
  {
   "cell_type": "markdown",
   "metadata": {},
   "source": [
    "#### **Random Forest: Confusion Matrix (Test Set)**\n",
    "\n",
    "- **Strong specificity**: Correctly predicted **21 sensitizers** (true positives, class `0`), but missed **6** (false positives).  \n",
    "- **High recall for non-sensitizers**: Captured **10 true negatives** (class `0`), with only **4 false negatives**, aligning with the high recall (84%) observed earlier.  \n",
    "- **Precision trade-off**: While recall is robust, the **6 false positives** (class `0` predicted as `1`) explain the precision score of 77."
   ]
  },
  {
   "cell_type": "code",
   "execution_count": 17,
   "metadata": {},
   "outputs": [
    {
     "data": {
      "image/png": "[encoded data removed]",
      "text/plain": [
       "<Figure size 640x480 with 2 Axes>"
      ]
     },
     "metadata": {},
     "output_type": "display_data"
    }
   ],
   "source": [
    "plot_metric(rf_clf, x_test, y_test, \"RF  Model-Test Set\", show_mat=True, show_roc=False)"
   ]
  },
  {
   "cell_type": "markdown",
   "metadata": {},
   "source": [
    "**🔍RF ROC Curve Analysis**\n",
    "\n",
    "- **ROC (Receiver Operating Characteristic)** visualizes the performance of RF classifier by plotting **True Positive Rate (Recall)** against the **False Positive Rate** at various threshold settings.\n",
    "\n",
    "- **AUC (Area Under Curve)** is **0.76**, indicating that the model has a **76% chance of correctly distinguishing between the positive and negative classes**.\n",
    "\n",
    "- The model **leans slightly toward recall**, meaning it's favoring capturing as many positives as possible, which is expected given the imbalanced nature of our data.\n",
    "\n",
    "- Given the **balance between precision and recall**, and a solid ROC AUC, the Random Forest model demonstrates **strong and balanced performance**.\n",
    "\n",
    "- **ROC curve shape** arcs toward the top-left corner, reinforces that the classifier is **making well-calibrated decisions across thresholds**."
   ]
  },
  {
   "cell_type": "code",
   "execution_count": 18,
   "metadata": {},
   "outputs": [
    {
     "data": {
      "image/png": "[encoded data removed]",
      "text/plain": [
       "<Figure size 640x480 with 1 Axes>"
      ]
     },
     "metadata": {},
     "output_type": "display_data"
    }
   ],
   "source": [
    "plot_metric(rf_clf, x_test, y_test, \"RF Model:-Test set\", show_mat=False, show_roc=True)"
   ]
  },
  {
   "cell_type": "markdown",
   "metadata": {},
   "source": [
    "### Generally, Feature Importance Isn't Interpretable Here\n",
    "\n",
    "Observing feature importance scores. They aren't directly interpretable in this context since we can't know what feature 4243 actually represents. \n",
    "\n",
    "**However, we can note an interesting pattern:** as we use more non-linear models, we begin to see greater importance being assigned to those non-linear `float`-type features generated by our compound embeddings featurizer!"
   ]
  },
  {
   "cell_type": "code",
   "execution_count": 40,
   "metadata": {},
   "outputs": [
    {
     "data": {
      "image/png": "[encoded data removed]",
      "text/plain": [
       "<Figure size 800x480 with 1 Axes>"
      ]
     },
     "metadata": {},
     "output_type": "display_data"
    }
   ],
   "source": [
    "import pandas as pd\n",
    "# Extract feature importances from the trained Random Forest model\n",
    "feature_importances = rf_clf.feature_importances_\n",
    "\n",
    "feature_names = x_train.columns\n",
    "\n",
    "# Create a DataFrame for better visualization\n",
    "importance_df = pd.DataFrame({\n",
    "    \"Feature\": feature_names,\n",
    "    \"Importance\": feature_importances\n",
    "})\n",
    "\n",
    "# Sort the features by importance\n",
    "importance_df = importance_df.sort_values(by=\"Importance\", ascending=False)\n",
    "\n",
    "# Plot the top 10 most important features\n",
    "plt.figure(figsize=(10, 6))\n",
    "plt.barh(importance_df[\"Feature\"].head(10), importance_df[\"Importance\"].head(10), color=\"skyblue\")\n",
    "plt.xlabel(\"Feature Importance\")\n",
    "plt.ylabel(\"Feature\")\n",
    "plt.title(\"Top 10 Feature Importances (Random Forest)\")\n",
    "plt.gca().invert_yaxis()  # Invert y-axis to show the most important feature at the top\n",
    "plt.show()"
   ]
  },
  {
   "cell_type": "code",
   "execution_count": 41,
   "metadata": {},
   "outputs": [
    {
     "name": "stdout",
     "output_type": "stream",
     "text": [
      "RandomForestClassifier(max_depth=12, n_estimators=16, random_state=42)\n"
     ]
    }
   ],
   "source": [
    "print(rf_clf)"
   ]
  },
  {
   "cell_type": "markdown",
   "metadata": {},
   "source": [
    "## Saving Models\n",
    "\n",
    "I finally saved my three modesl into a `joblib` object so I can reuse them independently later (e.g., in another script or app)."
   ]
  },
  {
   "cell_type": "code",
   "execution_count": 42,
   "metadata": {},
   "outputs": [
    {
     "data": {
      "text/plain": [
       "['/mnt/c/Users/A/Projects/outreachy-contributions/models/svc_clf_model.joblib']"
      ]
     },
     "execution_count": 42,
     "metadata": {},
     "output_type": "execute_result"
    }
   ],
   "source": [
    "import joblib\n",
    "\n",
    "# Save the model to a joblib file inside the modesl dir.\n",
    "joblib.dump(rf_clf, f\"{project_root}/models/rf_model.joblib\")\n",
    "joblib.dump(lr, f\"{project_root}/models/lr_model.joblib\")\n",
    "joblib.dump(svc_clf, f\"{project_root}/models/svc_clf_model.joblib\")"
   ]
  }
 ],
 "metadata": {
  "kernelspec": {
   "display_name": "venv",
   "language": "python",
   "name": "python3"
  },
  "language_info": {
   "codemirror_mode": {
    "name": "ipython",
    "version": 3
   },
   "file_extension": ".py",
   "mimetype": "text/x-python",
   "name": "python",
   "nbconvert_exporter": "python",
   "pygments_lexer": "ipython3",
   "version": "3.12.9"
  }
 },
 "nbformat": 4,
 "nbformat_minor": 2
}
